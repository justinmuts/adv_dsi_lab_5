{
 "cells": [
  {
   "cell_type": "markdown",
   "metadata": {
    "id": "uQ6wc2HE0pke"
   },
   "source": [
    "# **Lab: Neural Networks**\n",
    "\n"
   ]
  },
  {
   "cell_type": "markdown",
   "metadata": {
    "id": "tQgxLRrvjiJb"
   },
   "source": [
    "## Exercise 1: Regression with Pytorch\n",
    "\n",
    "In this exercise, we will build a Neural Networks with Pytorch for predicting pollution level. We will be working on the Beijing Pollution dataset:\n",
    "https://code.datasciencedojo.com/datasciencedojo/datasets/tree/master/Beijing%20PM2.5\n",
    "\n",
    "The steps are:\n",
    "1.   Setup Repository\n",
    "2.   Load and Explore Dataset\n",
    "3.   Prepare Data\n",
    "4.   Baseline Model\n",
    "5.   Define Architecture\n",
    "6.   Create Data Loader\n",
    "7.   Train Model\n",
    "8.   Assess Performance\n",
    "9.   Push Changes\n"
   ]
  },
  {
   "cell_type": "markdown",
   "metadata": {
    "id": "smh_LhVjIg9s"
   },
   "source": [
    "### 1. Setup Repository"
   ]
  },
  {
   "cell_type": "markdown",
   "metadata": {
    "id": "_fTLEcebNjhz"
   },
   "source": [
    "**[1.1]** Go to a folder of your choice on your computer (where you store projects)"
   ]
  },
  {
   "cell_type": "code",
   "execution_count": null,
   "metadata": {
    "id": "Pe-loIVTNjqW"
   },
   "outputs": [],
   "source": [
    "# Placeholder for student's code (1 command line)\n",
    "# Task: Go to a folder of your choice on your computer (where you store projects)"
   ]
  },
  {
   "cell_type": "code",
   "execution_count": null,
   "metadata": {
    "id": "QHPUrI1Cu-g-"
   },
   "outputs": [],
   "source": [
    "# Solution\n",
    "cd ~/Projects/"
   ]
  },
  {
   "cell_type": "markdown",
   "metadata": {
    "id": "EHQBJUHEQqcs"
   },
   "source": [
    "**[1.2]** Copy the cookiecutter data science template"
   ]
  },
  {
   "cell_type": "code",
   "execution_count": null,
   "metadata": {
    "id": "bM-1oZYxQqmO"
   },
   "outputs": [],
   "source": [
    "# Placeholder for student's code (1 command line)\n",
    "# Task: Copy the cookiecutter data science template"
   ]
  },
  {
   "cell_type": "code",
   "execution_count": null,
   "metadata": {
    "id": "TbseMHf7Qqo2"
   },
   "outputs": [],
   "source": [
    "# Solution\n",
    "cookiecutter -c v1 https://github.com/drivendata/cookiecutter-data-science"
   ]
  },
  {
   "cell_type": "markdown",
   "metadata": {
    "id": "scwewLhrRB_y"
   },
   "source": [
    "Follow the prompt (name the project and repo adv_dsi_lab_5)"
   ]
  },
  {
   "cell_type": "markdown",
   "metadata": {
    "id": "elPnd9JPQwkD"
   },
   "source": [
    "**[1.3]** Go inside the created folder `adv_dsi_lab_5`\n"
   ]
  },
  {
   "cell_type": "code",
   "execution_count": null,
   "metadata": {
    "id": "5VlHqFVqQwuC"
   },
   "outputs": [],
   "source": [
    "# Placeholder for student's code (1 command line)\n",
    "# Task: Go inside the created folder adv_dsi_lab_5"
   ]
  },
  {
   "cell_type": "code",
   "execution_count": null,
   "metadata": {
    "id": "df9ydWQNQww0"
   },
   "outputs": [],
   "source": [
    "# Solution\n",
    "cd adv_dsi_lab_5"
   ]
  },
  {
   "cell_type": "markdown",
   "metadata": {
    "id": "P7KRLjcRn2d4"
   },
   "source": [
    "**[1.4]** Create a file called `Dockerfile` and add the following content:\n",
    "\n",
    "`FROM jupyter/scipy-notebook:0ce64578df46`\n",
    "\n",
    "`RUN pip install torch==1.9.0+cpu torchvision==0.10.0+cpu torchtext==0.10.0 -f https://download.pytorch.org/whl/torch_stable.html`\n",
    "\n",
    "`ENV PYTHONPATH \"${PYTHONPATH}:/home/jovyan/work\"`\n",
    "\n",
    "`RUN echo \"export PYTHONPATH=/home/jovyan/work\" >> ~/.bashrc`\n",
    "\n",
    "`WORKDIR /home/jovyan/work`\n"
   ]
  },
  {
   "cell_type": "code",
   "execution_count": null,
   "metadata": {
    "id": "xBNTTx7UAVCV"
   },
   "outputs": [],
   "source": [
    "# Placeholder for student's code (1 command line)\n",
    "# Task: Create a file called Dockerfile "
   ]
  },
  {
   "cell_type": "code",
   "execution_count": null,
   "metadata": {
    "id": "hsv0dkk1n7Bg"
   },
   "outputs": [],
   "source": [
    "# Solution\n",
    "vi Dockerfile"
   ]
  },
  {
   "cell_type": "markdown",
   "metadata": {
    "id": "5r0cSHUtSqgS"
   },
   "source": [
    "We will create our own Docker image based on the official jupyter/scipy-notebook."
   ]
  },
  {
   "cell_type": "markdown",
   "metadata": {
    "id": "gwC9GRvsTvOJ"
   },
   "source": [
    "**[1.5]** Build the image from this Dockerfile"
   ]
  },
  {
   "cell_type": "code",
   "execution_count": null,
   "metadata": {
    "id": "tBlpvOyYTvYm"
   },
   "outputs": [],
   "source": [
    "docker build -t pytorch-notebook:latest ."
   ]
  },
  {
   "cell_type": "markdown",
   "metadata": {
    "id": "4MvpO7cVYC_P"
   },
   "source": [
    "Syntax: docker build [OPTIONS] PATH \n",
    "\n",
    "Options:\n",
    "\n",
    "`-t: Name and optionally a tag in the 'name:tag' format`\n",
    "\n",
    "Documentation: https://docs.docker.com/engine/reference/commandline/build/"
   ]
  },
  {
   "cell_type": "markdown",
   "metadata": {
    "id": "urrLvZmTUX23"
   },
   "source": [
    "**[1.6]** Run the built image"
   ]
  },
  {
   "cell_type": "code",
   "execution_count": 75,
   "metadata": {
    "id": "nDAwl-fSVgIe"
   },
   "outputs": [
    {
     "ename": "IndentationError",
     "evalue": "unexpected indent (<ipython-input-75-8f46e48194d5>, line 2)",
     "output_type": "error",
     "traceback": [
      "\u001b[0;36m  File \u001b[0;32m\"<ipython-input-75-8f46e48194d5>\"\u001b[0;36m, line \u001b[0;32m2\u001b[0m\n\u001b[0;31m    docker run  -dit --rm --name adv_dsi_lab_5 -p 8888:8888 -e JUPYTER_ENABLE_LAB=yes -v ~/Projects/adv_dsi/adv_dsi_lab_5:/home/jovyan/work pytorch-notebook:latest\u001b[0m\n\u001b[0m    ^\u001b[0m\n\u001b[0;31mIndentationError\u001b[0m\u001b[0;31m:\u001b[0m unexpected indent\n"
     ]
    }
   ],
   "source": [
    "# docker run  -dit --rm --name adv_dsi_lab_5 -p 8888:8888 -e JUPYTER_ENABLE_LAB=yes -v ~/Projects/adv_dsi/adv_dsi_lab_5:/home/jovyan/work -v ~/Projects/adv_dsi/src:/home/jovyan/work/src pytorch-notebook:latest \n",
    " docker run  -dit --rm --name adv_dsi_lab_5 -p 8888:8888 -e JUPYTER_ENABLE_LAB=yes -v ~/Projects/adv_dsi/adv_dsi_lab_5:/home/jovyan/work pytorch-notebook:latest                "
   ]
  },
  {
   "cell_type": "markdown",
   "metadata": {
    "id": "4fO9RJMhwGpM"
   },
   "source": [
    "**[1.7]** Display last 50 lines of logs"
   ]
  },
  {
   "cell_type": "code",
   "execution_count": null,
   "metadata": {
    "id": "RwizA-K3wGyb"
   },
   "outputs": [],
   "source": [
    "docker logs --tail 50 adv_dsi_lab_5"
   ]
  },
  {
   "cell_type": "markdown",
   "metadata": {
    "id": "QxkJaPioCmEO"
   },
   "source": [
    "Copy the url displayed and paste it to a browser in order to launch Jupyter Lab"
   ]
  },
  {
   "cell_type": "markdown",
   "metadata": {
    "id": "4MCoAnnacjS1"
   },
   "source": [
    "**[1.8]** Initialise the repo"
   ]
  },
  {
   "cell_type": "code",
   "execution_count": null,
   "metadata": {
    "id": "P-TPhgLMcjaL"
   },
   "outputs": [],
   "source": [
    "# Placeholder for student's code (1 command line)\n",
    "# Task: Initialise the repo"
   ]
  },
  {
   "cell_type": "code",
   "execution_count": null,
   "metadata": {
    "id": "jTTOWPgjckKe"
   },
   "outputs": [],
   "source": [
    "# Solution\n",
    "git init"
   ]
  },
  {
   "cell_type": "markdown",
   "metadata": {
    "id": "hGw8ot1UdHqg"
   },
   "source": [
    "**[1.9]** Login into Github with your account (https://github.com/) and create a public repo with the name `adv_dsi_lab_5`"
   ]
  },
  {
   "cell_type": "markdown",
   "metadata": {
    "id": "jD4H0EtCdDFr"
   },
   "source": [
    "**[1.10]** In your local repo `adv_dsi_lab_4`, link it with Github (replace the url with your username)"
   ]
  },
  {
   "cell_type": "code",
   "execution_count": null,
   "metadata": {
    "id": "_3fCS9HtdDNw"
   },
   "outputs": [],
   "source": [
    "# Placeholder for student's code (1 command line)\n",
    "# Task: Link repo with Github"
   ]
  },
  {
   "cell_type": "code",
   "execution_count": null,
   "metadata": {
    "id": "lpxHoo3SdDQo"
   },
   "outputs": [],
   "source": [
    "# Solution\n",
    "git remote add origin git@github.com:<username>/adv_dsi_lab_1_5.git"
   ]
  },
  {
   "cell_type": "markdown",
   "metadata": {
    "id": "8nd4YxFyTgt3"
   },
   "source": [
    "**[1.11]** Add you changes to git staging area and commit them"
   ]
  },
  {
   "cell_type": "code",
   "execution_count": null,
   "metadata": {
    "id": "pAHrqi05Tg2r"
   },
   "outputs": [],
   "source": [
    "# Placeholder for student's code (2 command lines)\n",
    "# Task: Add you changes to git staging area and commit them"
   ]
  },
  {
   "cell_type": "code",
   "execution_count": null,
   "metadata": {
    "id": "DS1hq_k3Tg6G"
   },
   "outputs": [],
   "source": [
    "# Solution\n",
    "git add .\n",
    "git commit -m \"init\""
   ]
  },
  {
   "cell_type": "markdown",
   "metadata": {
    "id": "3oRUjdX0dbBu"
   },
   "source": [
    "**[1.12]** Push your master branch to origin"
   ]
  },
  {
   "cell_type": "code",
   "execution_count": null,
   "metadata": {
    "id": "1UzrKvGtdbGy"
   },
   "outputs": [],
   "source": [
    "# Placeholder for student's code (1 command line)\n",
    "# Task: Push your master branch to origin"
   ]
  },
  {
   "cell_type": "code",
   "execution_count": null,
   "metadata": {
    "id": "Wv0pkcLkdbPL"
   },
   "outputs": [],
   "source": [
    "# Solution\n",
    "git push --set-upstream origin master"
   ]
  },
  {
   "cell_type": "markdown",
   "metadata": {
    "id": "oc4SHPzZJNCt"
   },
   "source": [
    "**[1.13]** Preventing push to `master` branch"
   ]
  },
  {
   "cell_type": "code",
   "execution_count": null,
   "metadata": {
    "id": "69Q2oTktJNKu"
   },
   "outputs": [],
   "source": [
    "# Placeholder for student's code (1 command line)\n",
    "# Task: Preventing push to master branch"
   ]
  },
  {
   "cell_type": "code",
   "execution_count": null,
   "metadata": {
    "id": "dolxgzgaJNNT"
   },
   "outputs": [],
   "source": [
    "# Solution\n",
    "git config branch.master.pushRemote no_push"
   ]
  },
  {
   "cell_type": "markdown",
   "metadata": {
    "id": "jxQRDLu2C6D4"
   },
   "source": [
    "**[1.14]** Create a new git branch called `pytorch_reg`"
   ]
  },
  {
   "cell_type": "code",
   "execution_count": null,
   "metadata": {
    "id": "y-S-ZdcqdoF7"
   },
   "outputs": [],
   "source": [
    "# Placeholder for student's code (1 command line)\n",
    "# Task: Create a new git branch called pytorch_reg"
   ]
  },
  {
   "cell_type": "code",
   "execution_count": null,
   "metadata": {
    "id": "zBD6K4MXC6rA"
   },
   "outputs": [],
   "source": [
    "# Solution\n",
    "git checkout -b pytorch_reg"
   ]
  },
  {
   "cell_type": "markdown",
   "metadata": {
    "id": "yTjwF_joDWnE"
   },
   "source": [
    "**[1.15]** Navigate the folder `notebooks` and create a new jupyter notebook called `1_pytorch_regression.ipynb`"
   ]
  },
  {
   "cell_type": "markdown",
   "metadata": {
    "id": "_NCwQQFkU3v5"
   },
   "source": [
    "### 2.   Load and Explore Dataset"
   ]
  },
  {
   "cell_type": "markdown",
   "metadata": {
    "id": "lupPwT3qWqyq"
   },
   "source": [
    "**[2.1]** Download the dataset into the `data/raw` folder:https://code.datasciencedojo.com/datasciencedojo/datasets/raw/master/Beijing%20PM2.5/PRSA_data_2010.1.1-2014.12.31.csv"
   ]
  },
  {
   "cell_type": "code",
   "execution_count": 141,
   "metadata": {
    "id": "iqVIqdjbWqyq",
    "outputId": "28601707-563e-48d3-a364-35f5124576e9"
   },
   "outputs": [
    {
     "name": "stdout",
     "output_type": "stream",
     "text": [
      "--2022-03-18 07:11:54--  https://code.datasciencedojo.com/datasciencedojo/datasets/raw/master/Beijing%20PM2.5/PRSA_data_2010.1.1-2014.12.31.csv\n",
      "Resolving code.datasciencedojo.com (code.datasciencedojo.com)... 167.99.111.153\n",
      "Connecting to code.datasciencedojo.com (code.datasciencedojo.com)|167.99.111.153|:443... connected.\n",
      "HTTP request sent, awaiting response... 200 OK\n",
      "Length: 1966669 (1.9M) [text/plain]\n",
      "Saving to: ‘../data/raw/PRSA_data_2010.1.1-2014.12.31.csv.1’\n",
      "\n",
      "PRSA_data_2010.1.1- 100%[===================>]   1.88M  1.45MB/s    in 1.3s    \n",
      "\n",
      "2022-03-18 07:11:56 (1.45 MB/s) - ‘../data/raw/PRSA_data_2010.1.1-2014.12.31.csv.1’ saved [1966669/1966669]\n",
      "\n"
     ]
    }
   ],
   "source": [
    "!wget -P ../data/raw https://code.datasciencedojo.com/datasciencedojo/datasets/raw/master/Beijing%20PM2.5/PRSA_data_2010.1.1-2014.12.31.csv"
   ]
  },
  {
   "cell_type": "markdown",
   "metadata": {
    "id": "4cZojBrtWRz0"
   },
   "source": [
    "**[2.2]** Launch the magic commands for auto-relaoding external modules"
   ]
  },
  {
   "cell_type": "code",
   "execution_count": null,
   "metadata": {
    "id": "Pdf4JCmYWR7w"
   },
   "outputs": [],
   "source": [
    "# Placeholder for student's code (2 lines of Python code)\n",
    "# Task: Launch the magic commands for auto-relaoding external modules"
   ]
  },
  {
   "cell_type": "code",
   "execution_count": 80,
   "metadata": {
    "id": "0p7MGcUSWSAr"
   },
   "outputs": [
    {
     "name": "stdout",
     "output_type": "stream",
     "text": [
      "The autoreload extension is already loaded. To reload it, use:\n",
      "  %reload_ext autoreload\n"
     ]
    }
   ],
   "source": [
    "#Solution\n",
    "%load_ext autoreload\n",
    "%autoreload 2"
   ]
  },
  {
   "cell_type": "markdown",
   "metadata": {
    "id": "JAIO_Y5Z9_Ay"
   },
   "source": [
    "**[2.3]** Import the pandas and numpy packages"
   ]
  },
  {
   "cell_type": "code",
   "execution_count": 81,
   "metadata": {
    "id": "SiroVmhn9_HP"
   },
   "outputs": [],
   "source": [
    "# Placeholder for student's code (3 lines of Python code)\n",
    "# Task: mport the pandas and numpy packages"
   ]
  },
  {
   "cell_type": "code",
   "execution_count": 147,
   "metadata": {
    "id": "2VRE9JYD9_Kk"
   },
   "outputs": [],
   "source": [
    "#Solution\n",
    "import pandas as pd\n",
    "import numpy as np"
   ]
  },
  {
   "cell_type": "markdown",
   "metadata": {
    "id": "R-Zy6Oq8pkuB"
   },
   "source": [
    "**[2.4]** Load the data in a dataframe called `df`\n"
   ]
  },
  {
   "cell_type": "code",
   "execution_count": 148,
   "metadata": {
    "id": "ZresJIasqpgH"
   },
   "outputs": [],
   "source": [
    "# Placeholder for student's code (1 line of Python code)\n",
    "# Task: Load the data in a dataframe called df"
   ]
  },
  {
   "cell_type": "code",
   "execution_count": 149,
   "metadata": {
    "id": "Q1iETWjDftMg"
   },
   "outputs": [],
   "source": [
    "#Solution:\n",
    "df = pd.read_csv('../data/raw/PRSA_data_2010.1.1-2014.12.31.csv')"
   ]
  },
  {
   "cell_type": "markdown",
   "metadata": {
    "id": "CLyMcoNCsx2k"
   },
   "source": [
    "**[2.5]** Display the first 5 rows of df"
   ]
  },
  {
   "cell_type": "code",
   "execution_count": 150,
   "metadata": {
    "id": "CJKSOaRPsbuD"
   },
   "outputs": [],
   "source": [
    "# Placeholder for student's code (1 line of Python code)\n",
    "# Task: Display the first 5 rows of df"
   ]
  },
  {
   "cell_type": "code",
   "execution_count": 151,
   "metadata": {
    "colab": {
     "base_uri": "https://localhost:8080/",
     "height": 204
    },
    "id": "xvnbhiPhs0ZP",
    "outputId": "e53ecd49-2f83-4391-8d44-6a02fdcc13df"
   },
   "outputs": [
    {
     "data": {
      "text/html": [
       "<div>\n",
       "<style scoped>\n",
       "    .dataframe tbody tr th:only-of-type {\n",
       "        vertical-align: middle;\n",
       "    }\n",
       "\n",
       "    .dataframe tbody tr th {\n",
       "        vertical-align: top;\n",
       "    }\n",
       "\n",
       "    .dataframe thead th {\n",
       "        text-align: right;\n",
       "    }\n",
       "</style>\n",
       "<table border=\"1\" class=\"dataframe\">\n",
       "  <thead>\n",
       "    <tr style=\"text-align: right;\">\n",
       "      <th></th>\n",
       "      <th>No</th>\n",
       "      <th>year</th>\n",
       "      <th>month</th>\n",
       "      <th>day</th>\n",
       "      <th>hour</th>\n",
       "      <th>pm2.5</th>\n",
       "      <th>DEWP</th>\n",
       "      <th>TEMP</th>\n",
       "      <th>PRES</th>\n",
       "      <th>cbwd</th>\n",
       "      <th>Iws</th>\n",
       "      <th>Is</th>\n",
       "      <th>Ir</th>\n",
       "    </tr>\n",
       "  </thead>\n",
       "  <tbody>\n",
       "    <tr>\n",
       "      <th>0</th>\n",
       "      <td>1</td>\n",
       "      <td>2010</td>\n",
       "      <td>1</td>\n",
       "      <td>1</td>\n",
       "      <td>0</td>\n",
       "      <td>NaN</td>\n",
       "      <td>-21</td>\n",
       "      <td>-11.0</td>\n",
       "      <td>1021.0</td>\n",
       "      <td>NW</td>\n",
       "      <td>1.79</td>\n",
       "      <td>0</td>\n",
       "      <td>0</td>\n",
       "    </tr>\n",
       "    <tr>\n",
       "      <th>1</th>\n",
       "      <td>2</td>\n",
       "      <td>2010</td>\n",
       "      <td>1</td>\n",
       "      <td>1</td>\n",
       "      <td>1</td>\n",
       "      <td>NaN</td>\n",
       "      <td>-21</td>\n",
       "      <td>-12.0</td>\n",
       "      <td>1020.0</td>\n",
       "      <td>NW</td>\n",
       "      <td>4.92</td>\n",
       "      <td>0</td>\n",
       "      <td>0</td>\n",
       "    </tr>\n",
       "    <tr>\n",
       "      <th>2</th>\n",
       "      <td>3</td>\n",
       "      <td>2010</td>\n",
       "      <td>1</td>\n",
       "      <td>1</td>\n",
       "      <td>2</td>\n",
       "      <td>NaN</td>\n",
       "      <td>-21</td>\n",
       "      <td>-11.0</td>\n",
       "      <td>1019.0</td>\n",
       "      <td>NW</td>\n",
       "      <td>6.71</td>\n",
       "      <td>0</td>\n",
       "      <td>0</td>\n",
       "    </tr>\n",
       "    <tr>\n",
       "      <th>3</th>\n",
       "      <td>4</td>\n",
       "      <td>2010</td>\n",
       "      <td>1</td>\n",
       "      <td>1</td>\n",
       "      <td>3</td>\n",
       "      <td>NaN</td>\n",
       "      <td>-21</td>\n",
       "      <td>-14.0</td>\n",
       "      <td>1019.0</td>\n",
       "      <td>NW</td>\n",
       "      <td>9.84</td>\n",
       "      <td>0</td>\n",
       "      <td>0</td>\n",
       "    </tr>\n",
       "    <tr>\n",
       "      <th>4</th>\n",
       "      <td>5</td>\n",
       "      <td>2010</td>\n",
       "      <td>1</td>\n",
       "      <td>1</td>\n",
       "      <td>4</td>\n",
       "      <td>NaN</td>\n",
       "      <td>-20</td>\n",
       "      <td>-12.0</td>\n",
       "      <td>1018.0</td>\n",
       "      <td>NW</td>\n",
       "      <td>12.97</td>\n",
       "      <td>0</td>\n",
       "      <td>0</td>\n",
       "    </tr>\n",
       "  </tbody>\n",
       "</table>\n",
       "</div>"
      ],
      "text/plain": [
       "   No  year  month  day  hour  pm2.5  DEWP  TEMP    PRES cbwd    Iws  Is  Ir\n",
       "0   1  2010      1    1     0    NaN   -21 -11.0  1021.0   NW   1.79   0   0\n",
       "1   2  2010      1    1     1    NaN   -21 -12.0  1020.0   NW   4.92   0   0\n",
       "2   3  2010      1    1     2    NaN   -21 -11.0  1019.0   NW   6.71   0   0\n",
       "3   4  2010      1    1     3    NaN   -21 -14.0  1019.0   NW   9.84   0   0\n",
       "4   5  2010      1    1     4    NaN   -20 -12.0  1018.0   NW  12.97   0   0"
      ]
     },
     "execution_count": 151,
     "metadata": {},
     "output_type": "execute_result"
    }
   ],
   "source": [
    "# Solution\n",
    "df.head()"
   ]
  },
  {
   "cell_type": "markdown",
   "metadata": {
    "id": "gQgeYjQDs12m"
   },
   "source": [
    "**[2.6]** Display the dimensions (shape) of df"
   ]
  },
  {
   "cell_type": "code",
   "execution_count": 152,
   "metadata": {
    "id": "dOA7T87hs19l"
   },
   "outputs": [],
   "source": [
    "# Placeholder for student's code (1 line of Python code)\n",
    "# Task: Task: Display the dimensions (shape) of df"
   ]
  },
  {
   "cell_type": "code",
   "execution_count": 153,
   "metadata": {
    "colab": {
     "base_uri": "https://localhost:8080/"
    },
    "id": "Dg_89DlAs1_w",
    "outputId": "7b5cdeac-b62b-4a49-dd1f-db9dbb336fd0"
   },
   "outputs": [
    {
     "data": {
      "text/plain": [
       "(43824, 13)"
      ]
     },
     "execution_count": 153,
     "metadata": {},
     "output_type": "execute_result"
    }
   ],
   "source": [
    "# Solution\n",
    "df.shape"
   ]
  },
  {
   "cell_type": "markdown",
   "metadata": {
    "id": "xyle1PCws7B0"
   },
   "source": [
    "**[2.7]** Display the summary (info) of df"
   ]
  },
  {
   "cell_type": "code",
   "execution_count": 154,
   "metadata": {
    "id": "RrNAGFzxs7JU"
   },
   "outputs": [],
   "source": [
    "# Placeholder for student's code (1 line of Python code)\n",
    "# Task: Display the summary (info) of df"
   ]
  },
  {
   "cell_type": "code",
   "execution_count": 155,
   "metadata": {
    "colab": {
     "base_uri": "https://localhost:8080/"
    },
    "id": "l1msvlh7s7Lt",
    "outputId": "7e607270-809a-4587-ac90-5e168d8f4ee8"
   },
   "outputs": [
    {
     "name": "stdout",
     "output_type": "stream",
     "text": [
      "<class 'pandas.core.frame.DataFrame'>\n",
      "RangeIndex: 43824 entries, 0 to 43823\n",
      "Data columns (total 13 columns):\n",
      "No       43824 non-null int64\n",
      "year     43824 non-null int64\n",
      "month    43824 non-null int64\n",
      "day      43824 non-null int64\n",
      "hour     43824 non-null int64\n",
      "pm2.5    41757 non-null float64\n",
      "DEWP     43824 non-null int64\n",
      "TEMP     43824 non-null float64\n",
      "PRES     43824 non-null float64\n",
      "cbwd     43824 non-null object\n",
      "Iws      43824 non-null float64\n",
      "Is       43824 non-null int64\n",
      "Ir       43824 non-null int64\n",
      "dtypes: float64(4), int64(8), object(1)\n",
      "memory usage: 4.3+ MB\n"
     ]
    }
   ],
   "source": [
    "# Solution\n",
    "df.info()"
   ]
  },
  {
   "cell_type": "markdown",
   "metadata": {
    "id": "eWLgqm2YtAgP"
   },
   "source": [
    "**[2.8]** Display the descriptive statistics of df\n"
   ]
  },
  {
   "cell_type": "code",
   "execution_count": 156,
   "metadata": {
    "id": "2ZnOCCtjtAnj"
   },
   "outputs": [],
   "source": [
    "# Placeholder for student's code (1 line of Python code)\n",
    "# Task: Display the descriptive statictics of df"
   ]
  },
  {
   "cell_type": "code",
   "execution_count": 157,
   "metadata": {
    "colab": {
     "base_uri": "https://localhost:8080/",
     "height": 297
    },
    "id": "FQLSaoXltAp-",
    "outputId": "6fb0ec68-3920-451b-a5e6-20b708a8f3d7"
   },
   "outputs": [
    {
     "data": {
      "text/html": [
       "<div>\n",
       "<style scoped>\n",
       "    .dataframe tbody tr th:only-of-type {\n",
       "        vertical-align: middle;\n",
       "    }\n",
       "\n",
       "    .dataframe tbody tr th {\n",
       "        vertical-align: top;\n",
       "    }\n",
       "\n",
       "    .dataframe thead th {\n",
       "        text-align: right;\n",
       "    }\n",
       "</style>\n",
       "<table border=\"1\" class=\"dataframe\">\n",
       "  <thead>\n",
       "    <tr style=\"text-align: right;\">\n",
       "      <th></th>\n",
       "      <th>No</th>\n",
       "      <th>year</th>\n",
       "      <th>month</th>\n",
       "      <th>day</th>\n",
       "      <th>hour</th>\n",
       "      <th>pm2.5</th>\n",
       "      <th>DEWP</th>\n",
       "      <th>TEMP</th>\n",
       "      <th>PRES</th>\n",
       "      <th>Iws</th>\n",
       "      <th>Is</th>\n",
       "      <th>Ir</th>\n",
       "    </tr>\n",
       "  </thead>\n",
       "  <tbody>\n",
       "    <tr>\n",
       "      <th>count</th>\n",
       "      <td>43824.000000</td>\n",
       "      <td>43824.000000</td>\n",
       "      <td>43824.000000</td>\n",
       "      <td>43824.000000</td>\n",
       "      <td>43824.000000</td>\n",
       "      <td>41757.000000</td>\n",
       "      <td>43824.000000</td>\n",
       "      <td>43824.000000</td>\n",
       "      <td>43824.000000</td>\n",
       "      <td>43824.000000</td>\n",
       "      <td>43824.000000</td>\n",
       "      <td>43824.000000</td>\n",
       "    </tr>\n",
       "    <tr>\n",
       "      <th>mean</th>\n",
       "      <td>21912.500000</td>\n",
       "      <td>2012.000000</td>\n",
       "      <td>6.523549</td>\n",
       "      <td>15.727820</td>\n",
       "      <td>11.500000</td>\n",
       "      <td>98.613215</td>\n",
       "      <td>1.817246</td>\n",
       "      <td>12.448521</td>\n",
       "      <td>1016.447654</td>\n",
       "      <td>23.889140</td>\n",
       "      <td>0.052734</td>\n",
       "      <td>0.194916</td>\n",
       "    </tr>\n",
       "    <tr>\n",
       "      <th>std</th>\n",
       "      <td>12651.043435</td>\n",
       "      <td>1.413842</td>\n",
       "      <td>3.448572</td>\n",
       "      <td>8.799425</td>\n",
       "      <td>6.922266</td>\n",
       "      <td>92.050387</td>\n",
       "      <td>14.433440</td>\n",
       "      <td>12.198613</td>\n",
       "      <td>10.268698</td>\n",
       "      <td>50.010635</td>\n",
       "      <td>0.760375</td>\n",
       "      <td>1.415867</td>\n",
       "    </tr>\n",
       "    <tr>\n",
       "      <th>min</th>\n",
       "      <td>1.000000</td>\n",
       "      <td>2010.000000</td>\n",
       "      <td>1.000000</td>\n",
       "      <td>1.000000</td>\n",
       "      <td>0.000000</td>\n",
       "      <td>0.000000</td>\n",
       "      <td>-40.000000</td>\n",
       "      <td>-19.000000</td>\n",
       "      <td>991.000000</td>\n",
       "      <td>0.450000</td>\n",
       "      <td>0.000000</td>\n",
       "      <td>0.000000</td>\n",
       "    </tr>\n",
       "    <tr>\n",
       "      <th>25%</th>\n",
       "      <td>10956.750000</td>\n",
       "      <td>2011.000000</td>\n",
       "      <td>4.000000</td>\n",
       "      <td>8.000000</td>\n",
       "      <td>5.750000</td>\n",
       "      <td>29.000000</td>\n",
       "      <td>-10.000000</td>\n",
       "      <td>2.000000</td>\n",
       "      <td>1008.000000</td>\n",
       "      <td>1.790000</td>\n",
       "      <td>0.000000</td>\n",
       "      <td>0.000000</td>\n",
       "    </tr>\n",
       "    <tr>\n",
       "      <th>50%</th>\n",
       "      <td>21912.500000</td>\n",
       "      <td>2012.000000</td>\n",
       "      <td>7.000000</td>\n",
       "      <td>16.000000</td>\n",
       "      <td>11.500000</td>\n",
       "      <td>72.000000</td>\n",
       "      <td>2.000000</td>\n",
       "      <td>14.000000</td>\n",
       "      <td>1016.000000</td>\n",
       "      <td>5.370000</td>\n",
       "      <td>0.000000</td>\n",
       "      <td>0.000000</td>\n",
       "    </tr>\n",
       "    <tr>\n",
       "      <th>75%</th>\n",
       "      <td>32868.250000</td>\n",
       "      <td>2013.000000</td>\n",
       "      <td>10.000000</td>\n",
       "      <td>23.000000</td>\n",
       "      <td>17.250000</td>\n",
       "      <td>137.000000</td>\n",
       "      <td>15.000000</td>\n",
       "      <td>23.000000</td>\n",
       "      <td>1025.000000</td>\n",
       "      <td>21.910000</td>\n",
       "      <td>0.000000</td>\n",
       "      <td>0.000000</td>\n",
       "    </tr>\n",
       "    <tr>\n",
       "      <th>max</th>\n",
       "      <td>43824.000000</td>\n",
       "      <td>2014.000000</td>\n",
       "      <td>12.000000</td>\n",
       "      <td>31.000000</td>\n",
       "      <td>23.000000</td>\n",
       "      <td>994.000000</td>\n",
       "      <td>28.000000</td>\n",
       "      <td>42.000000</td>\n",
       "      <td>1046.000000</td>\n",
       "      <td>585.600000</td>\n",
       "      <td>27.000000</td>\n",
       "      <td>36.000000</td>\n",
       "    </tr>\n",
       "  </tbody>\n",
       "</table>\n",
       "</div>"
      ],
      "text/plain": [
       "                 No          year         month           day          hour  \\\n",
       "count  43824.000000  43824.000000  43824.000000  43824.000000  43824.000000   \n",
       "mean   21912.500000   2012.000000      6.523549     15.727820     11.500000   \n",
       "std    12651.043435      1.413842      3.448572      8.799425      6.922266   \n",
       "min        1.000000   2010.000000      1.000000      1.000000      0.000000   \n",
       "25%    10956.750000   2011.000000      4.000000      8.000000      5.750000   \n",
       "50%    21912.500000   2012.000000      7.000000     16.000000     11.500000   \n",
       "75%    32868.250000   2013.000000     10.000000     23.000000     17.250000   \n",
       "max    43824.000000   2014.000000     12.000000     31.000000     23.000000   \n",
       "\n",
       "              pm2.5          DEWP          TEMP          PRES           Iws  \\\n",
       "count  41757.000000  43824.000000  43824.000000  43824.000000  43824.000000   \n",
       "mean      98.613215      1.817246     12.448521   1016.447654     23.889140   \n",
       "std       92.050387     14.433440     12.198613     10.268698     50.010635   \n",
       "min        0.000000    -40.000000    -19.000000    991.000000      0.450000   \n",
       "25%       29.000000    -10.000000      2.000000   1008.000000      1.790000   \n",
       "50%       72.000000      2.000000     14.000000   1016.000000      5.370000   \n",
       "75%      137.000000     15.000000     23.000000   1025.000000     21.910000   \n",
       "max      994.000000     28.000000     42.000000   1046.000000    585.600000   \n",
       "\n",
       "                 Is            Ir  \n",
       "count  43824.000000  43824.000000  \n",
       "mean       0.052734      0.194916  \n",
       "std        0.760375      1.415867  \n",
       "min        0.000000      0.000000  \n",
       "25%        0.000000      0.000000  \n",
       "50%        0.000000      0.000000  \n",
       "75%        0.000000      0.000000  \n",
       "max       27.000000     36.000000  "
      ]
     },
     "execution_count": 157,
     "metadata": {},
     "output_type": "execute_result"
    }
   ],
   "source": [
    "# Solution\n",
    "df.describe()"
   ]
  },
  {
   "cell_type": "markdown",
   "metadata": {
    "id": "miQ6SiKlscLx"
   },
   "source": [
    "### 3. Prepare Data"
   ]
  },
  {
   "cell_type": "markdown",
   "metadata": {
    "id": "NtuF1V6ctwn-"
   },
   "source": [
    "**[3.1]** Create a copy of `df` and save it into a variable called `df_cleaned`"
   ]
  },
  {
   "cell_type": "code",
   "execution_count": 158,
   "metadata": {
    "id": "Zqaz1C7DtwuU"
   },
   "outputs": [],
   "source": [
    "# Placeholder for student's code (1 line of Python code)\n",
    "# Task: Create a copy of df and save it into a variable called df_cleaned"
   ]
  },
  {
   "cell_type": "code",
   "execution_count": 159,
   "metadata": {
    "id": "HrXR7NCLtwxB"
   },
   "outputs": [],
   "source": [
    "# Solution\n",
    "df_cleaned = df.copy()"
   ]
  },
  {
   "cell_type": "markdown",
   "metadata": {
    "id": "SWnL2dh5W2Th"
   },
   "source": [
    "**[3.2]** Remove the column `No` as it is an identifier for rows"
   ]
  },
  {
   "cell_type": "code",
   "execution_count": 160,
   "metadata": {
    "id": "CEBOxrs0W2cH"
   },
   "outputs": [],
   "source": [
    "# Placeholder for student's code (1 line of Python code)\n",
    "# Task: Remove the column No as it is an identifier for rows"
   ]
  },
  {
   "cell_type": "code",
   "execution_count": 161,
   "metadata": {
    "id": "TdbDsjpLW2ev"
   },
   "outputs": [],
   "source": [
    "# Solution\n",
    "df_cleaned.drop('No', axis=1, inplace=True)"
   ]
  },
  {
   "cell_type": "markdown",
   "metadata": {
    "id": "nsKJOOyZXGOw"
   },
   "source": [
    "**[3.3]** Remove the missing values from the target variable `pm2.5`"
   ]
  },
  {
   "cell_type": "code",
   "execution_count": 162,
   "metadata": {
    "id": "YDs2P74NXGWd"
   },
   "outputs": [],
   "source": [
    "# Placeholder for student's code (1 line of Python code)\n",
    "# Task: Remove the missing values from the target variable pm2.5"
   ]
  },
  {
   "cell_type": "code",
   "execution_count": 163,
   "metadata": {
    "id": "AhJBqXnbXGY-"
   },
   "outputs": [],
   "source": [
    "# Solution\n",
    "df_cleaned.dropna(inplace=True)"
   ]
  },
  {
   "cell_type": "markdown",
   "metadata": {
    "id": "6K9x8C7dXbis"
   },
   "source": [
    "**[3.4]** Reset the indexes of the dataframe"
   ]
  },
  {
   "cell_type": "code",
   "execution_count": 164,
   "metadata": {
    "id": "2BIi29LpXbqQ"
   },
   "outputs": [],
   "source": [
    "# Placeholder for student's code (1 line of Python code)\n",
    "# Task: Reset the indexes of the dataframe"
   ]
  },
  {
   "cell_type": "code",
   "execution_count": 165,
   "metadata": {
    "id": "83iRE5u5XbtD"
   },
   "outputs": [],
   "source": [
    "# Solution\n",
    "df_cleaned.reset_index(drop=True, inplace=True)"
   ]
  },
  {
   "cell_type": "code",
   "execution_count": 166,
   "metadata": {},
   "outputs": [
    {
     "data": {
      "text/html": [
       "<div>\n",
       "<style scoped>\n",
       "    .dataframe tbody tr th:only-of-type {\n",
       "        vertical-align: middle;\n",
       "    }\n",
       "\n",
       "    .dataframe tbody tr th {\n",
       "        vertical-align: top;\n",
       "    }\n",
       "\n",
       "    .dataframe thead th {\n",
       "        text-align: right;\n",
       "    }\n",
       "</style>\n",
       "<table border=\"1\" class=\"dataframe\">\n",
       "  <thead>\n",
       "    <tr style=\"text-align: right;\">\n",
       "      <th></th>\n",
       "      <th>year</th>\n",
       "      <th>month</th>\n",
       "      <th>day</th>\n",
       "      <th>hour</th>\n",
       "      <th>pm2.5</th>\n",
       "      <th>DEWP</th>\n",
       "      <th>TEMP</th>\n",
       "      <th>PRES</th>\n",
       "      <th>cbwd</th>\n",
       "      <th>Iws</th>\n",
       "      <th>Is</th>\n",
       "      <th>Ir</th>\n",
       "    </tr>\n",
       "  </thead>\n",
       "  <tbody>\n",
       "    <tr>\n",
       "      <th>0</th>\n",
       "      <td>2010</td>\n",
       "      <td>1</td>\n",
       "      <td>2</td>\n",
       "      <td>0</td>\n",
       "      <td>129.0</td>\n",
       "      <td>-16</td>\n",
       "      <td>-4.0</td>\n",
       "      <td>1020.0</td>\n",
       "      <td>SE</td>\n",
       "      <td>1.79</td>\n",
       "      <td>0</td>\n",
       "      <td>0</td>\n",
       "    </tr>\n",
       "    <tr>\n",
       "      <th>1</th>\n",
       "      <td>2010</td>\n",
       "      <td>1</td>\n",
       "      <td>2</td>\n",
       "      <td>1</td>\n",
       "      <td>148.0</td>\n",
       "      <td>-15</td>\n",
       "      <td>-4.0</td>\n",
       "      <td>1020.0</td>\n",
       "      <td>SE</td>\n",
       "      <td>2.68</td>\n",
       "      <td>0</td>\n",
       "      <td>0</td>\n",
       "    </tr>\n",
       "    <tr>\n",
       "      <th>2</th>\n",
       "      <td>2010</td>\n",
       "      <td>1</td>\n",
       "      <td>2</td>\n",
       "      <td>2</td>\n",
       "      <td>159.0</td>\n",
       "      <td>-11</td>\n",
       "      <td>-5.0</td>\n",
       "      <td>1021.0</td>\n",
       "      <td>SE</td>\n",
       "      <td>3.57</td>\n",
       "      <td>0</td>\n",
       "      <td>0</td>\n",
       "    </tr>\n",
       "    <tr>\n",
       "      <th>3</th>\n",
       "      <td>2010</td>\n",
       "      <td>1</td>\n",
       "      <td>2</td>\n",
       "      <td>3</td>\n",
       "      <td>181.0</td>\n",
       "      <td>-7</td>\n",
       "      <td>-5.0</td>\n",
       "      <td>1022.0</td>\n",
       "      <td>SE</td>\n",
       "      <td>5.36</td>\n",
       "      <td>1</td>\n",
       "      <td>0</td>\n",
       "    </tr>\n",
       "    <tr>\n",
       "      <th>4</th>\n",
       "      <td>2010</td>\n",
       "      <td>1</td>\n",
       "      <td>2</td>\n",
       "      <td>4</td>\n",
       "      <td>138.0</td>\n",
       "      <td>-7</td>\n",
       "      <td>-5.0</td>\n",
       "      <td>1022.0</td>\n",
       "      <td>SE</td>\n",
       "      <td>6.25</td>\n",
       "      <td>2</td>\n",
       "      <td>0</td>\n",
       "    </tr>\n",
       "    <tr>\n",
       "      <th>...</th>\n",
       "      <td>...</td>\n",
       "      <td>...</td>\n",
       "      <td>...</td>\n",
       "      <td>...</td>\n",
       "      <td>...</td>\n",
       "      <td>...</td>\n",
       "      <td>...</td>\n",
       "      <td>...</td>\n",
       "      <td>...</td>\n",
       "      <td>...</td>\n",
       "      <td>...</td>\n",
       "      <td>...</td>\n",
       "    </tr>\n",
       "    <tr>\n",
       "      <th>41752</th>\n",
       "      <td>2014</td>\n",
       "      <td>12</td>\n",
       "      <td>31</td>\n",
       "      <td>19</td>\n",
       "      <td>8.0</td>\n",
       "      <td>-23</td>\n",
       "      <td>-2.0</td>\n",
       "      <td>1034.0</td>\n",
       "      <td>NW</td>\n",
       "      <td>231.97</td>\n",
       "      <td>0</td>\n",
       "      <td>0</td>\n",
       "    </tr>\n",
       "    <tr>\n",
       "      <th>41753</th>\n",
       "      <td>2014</td>\n",
       "      <td>12</td>\n",
       "      <td>31</td>\n",
       "      <td>20</td>\n",
       "      <td>10.0</td>\n",
       "      <td>-22</td>\n",
       "      <td>-3.0</td>\n",
       "      <td>1034.0</td>\n",
       "      <td>NW</td>\n",
       "      <td>237.78</td>\n",
       "      <td>0</td>\n",
       "      <td>0</td>\n",
       "    </tr>\n",
       "    <tr>\n",
       "      <th>41754</th>\n",
       "      <td>2014</td>\n",
       "      <td>12</td>\n",
       "      <td>31</td>\n",
       "      <td>21</td>\n",
       "      <td>10.0</td>\n",
       "      <td>-22</td>\n",
       "      <td>-3.0</td>\n",
       "      <td>1034.0</td>\n",
       "      <td>NW</td>\n",
       "      <td>242.70</td>\n",
       "      <td>0</td>\n",
       "      <td>0</td>\n",
       "    </tr>\n",
       "    <tr>\n",
       "      <th>41755</th>\n",
       "      <td>2014</td>\n",
       "      <td>12</td>\n",
       "      <td>31</td>\n",
       "      <td>22</td>\n",
       "      <td>8.0</td>\n",
       "      <td>-22</td>\n",
       "      <td>-4.0</td>\n",
       "      <td>1034.0</td>\n",
       "      <td>NW</td>\n",
       "      <td>246.72</td>\n",
       "      <td>0</td>\n",
       "      <td>0</td>\n",
       "    </tr>\n",
       "    <tr>\n",
       "      <th>41756</th>\n",
       "      <td>2014</td>\n",
       "      <td>12</td>\n",
       "      <td>31</td>\n",
       "      <td>23</td>\n",
       "      <td>12.0</td>\n",
       "      <td>-21</td>\n",
       "      <td>-3.0</td>\n",
       "      <td>1034.0</td>\n",
       "      <td>NW</td>\n",
       "      <td>249.85</td>\n",
       "      <td>0</td>\n",
       "      <td>0</td>\n",
       "    </tr>\n",
       "  </tbody>\n",
       "</table>\n",
       "<p>41757 rows × 12 columns</p>\n",
       "</div>"
      ],
      "text/plain": [
       "       year  month  day  hour  pm2.5  DEWP  TEMP    PRES cbwd     Iws  Is  Ir\n",
       "0      2010      1    2     0  129.0   -16  -4.0  1020.0   SE    1.79   0   0\n",
       "1      2010      1    2     1  148.0   -15  -4.0  1020.0   SE    2.68   0   0\n",
       "2      2010      1    2     2  159.0   -11  -5.0  1021.0   SE    3.57   0   0\n",
       "3      2010      1    2     3  181.0    -7  -5.0  1022.0   SE    5.36   1   0\n",
       "4      2010      1    2     4  138.0    -7  -5.0  1022.0   SE    6.25   2   0\n",
       "...     ...    ...  ...   ...    ...   ...   ...     ...  ...     ...  ..  ..\n",
       "41752  2014     12   31    19    8.0   -23  -2.0  1034.0   NW  231.97   0   0\n",
       "41753  2014     12   31    20   10.0   -22  -3.0  1034.0   NW  237.78   0   0\n",
       "41754  2014     12   31    21   10.0   -22  -3.0  1034.0   NW  242.70   0   0\n",
       "41755  2014     12   31    22    8.0   -22  -4.0  1034.0   NW  246.72   0   0\n",
       "41756  2014     12   31    23   12.0   -21  -3.0  1034.0   NW  249.85   0   0\n",
       "\n",
       "[41757 rows x 12 columns]"
      ]
     },
     "execution_count": 166,
     "metadata": {},
     "output_type": "execute_result"
    }
   ],
   "source": [
    "df_cleaned"
   ]
  },
  {
   "cell_type": "markdown",
   "metadata": {
    "id": "m1RrTCBRDybQ"
   },
   "source": [
    "**[3.5]** Import `StandardScaler` and `OneHotEncoder` from `sklearn.preprocessing`"
   ]
  },
  {
   "cell_type": "code",
   "execution_count": 167,
   "metadata": {
    "id": "wtYjKp_1DyiT"
   },
   "outputs": [],
   "source": [
    "# Placeholder for student's code (1 line of Python code)\n",
    "# Task: Import StandardScaler and OneHotEncoder from sklearn.preprocessing\n"
   ]
  },
  {
   "cell_type": "code",
   "execution_count": 168,
   "metadata": {
    "id": "aezRs9S3Dyl0"
   },
   "outputs": [],
   "source": [
    "# Solution\n",
    "from sklearn.preprocessing import StandardScaler, OneHotEncoder"
   ]
  },
  {
   "cell_type": "markdown",
   "metadata": {
    "id": "5pKaCxasERAt"
   },
   "source": [
    "**[3.6]** Create a list called `num_cols` that contains `year`, `DEWP`, `TEMP`, `PRES`, `Iws`, `Is`, `Ir`"
   ]
  },
  {
   "cell_type": "code",
   "execution_count": 169,
   "metadata": {
    "id": "qbqcA0Lg0Nqa"
   },
   "outputs": [],
   "source": [
    "# Placeholder for student's code (1 line of Python code)\n",
    "# Task: Create a list called num_cols that contains year, DEWP, TEMP, PRES, Iws, Is, Ir"
   ]
  },
  {
   "cell_type": "code",
   "execution_count": 170,
   "metadata": {
    "id": "yDwCmIXvERJO"
   },
   "outputs": [],
   "source": [
    "# Solution\n",
    "num_cols = ['year', 'DEWP', 'TEMP', 'PRES', 'Iws', 'Is', 'Ir']"
   ]
  },
  {
   "cell_type": "markdown",
   "metadata": {
    "id": "-l0Hkri1FVrv"
   },
   "source": [
    "**[3.7]** Instantiate a `StandardScaler` and called it `sc`"
   ]
  },
  {
   "cell_type": "code",
   "execution_count": 171,
   "metadata": {
    "id": "-f6eVl84FVy_"
   },
   "outputs": [],
   "source": [
    "# Placeholder for student's code (1 line of Python code)\n",
    "# Task: Instantiate a StandardScaler and called it sc"
   ]
  },
  {
   "cell_type": "code",
   "execution_count": 172,
   "metadata": {
    "id": "x_yCjMqgFV1u"
   },
   "outputs": [],
   "source": [
    "# Solution\n",
    "sc = StandardScaler()"
   ]
  },
  {
   "cell_type": "markdown",
   "metadata": {
    "id": "w2v1vLMWTofp"
   },
   "source": [
    "**[3.8]** Fit and transform the numeric feature of `df_cleaned` and replace the data into it"
   ]
  },
  {
   "cell_type": "code",
   "execution_count": 173,
   "metadata": {
    "id": "BcTo7drqTom4"
   },
   "outputs": [],
   "source": [
    "# Placeholder for student's code (1 line of Python code)\n",
    "# Task: Fit and transform the numeric feature of X_train_cleaned and replace the data into it"
   ]
  },
  {
   "cell_type": "code",
   "execution_count": 174,
   "metadata": {
    "id": "dfUpbRYSTopS"
   },
   "outputs": [],
   "source": [
    "# Solution\n",
    "df_cleaned[num_cols] = sc.fit_transform(df_cleaned[num_cols])"
   ]
  },
  {
   "cell_type": "markdown",
   "metadata": {
    "id": "lt8YYcHuTsDs"
   },
   "source": [
    "**[3.9]** Create a list called `cat_cols` that contains `month`, `day`, `hour`, `cbwd`"
   ]
  },
  {
   "cell_type": "code",
   "execution_count": 175,
   "metadata": {
    "id": "0Fs5Lt8jTsLK"
   },
   "outputs": [],
   "source": [
    "# Placeholder for student's code (1 line of Python code)\n",
    "# Task: Create a list called cat_cols that contains Gender"
   ]
  },
  {
   "cell_type": "code",
   "execution_count": 176,
   "metadata": {
    "id": "z6isEtGBTsNz"
   },
   "outputs": [],
   "source": [
    "# Solution (categorical variables in a list)\n",
    "cat_cols = ['month', 'day', 'hour', 'cbwd']"
   ]
  },
  {
   "cell_type": "markdown",
   "metadata": {
    "id": "_sWy8I5FYVhU"
   },
   "source": [
    "**[3.10]** Instantiate a `OneHotEncoder` and called it `ohe`"
   ]
  },
  {
   "cell_type": "code",
   "execution_count": 177,
   "metadata": {
    "id": "C77Vj8nxYVoy"
   },
   "outputs": [],
   "source": [
    "# Placeholder for student's code (1 line of Python code)\n",
    "# Task: Instantiate a OneHotEncoder and called it ohe"
   ]
  },
  {
   "cell_type": "code",
   "execution_count": 178,
   "metadata": {
    "id": "OyWdvAEwYVrW"
   },
   "outputs": [],
   "source": [
    "# Solution\n",
    "ohe = OneHotEncoder(sparse=False)"
   ]
  },
  {
   "cell_type": "markdown",
   "metadata": {
    "id": "guu_QM_KN8Aw"
   },
   "source": [
    "**[3.11]** Perform One-Hot encoding on `cat_cols` and save them into a dataframe called `X_cat`"
   ]
  },
  {
   "cell_type": "code",
   "execution_count": 179,
   "metadata": {
    "id": "8WD93YoANvpY"
   },
   "outputs": [],
   "source": [
    "# Placeholder for student's code (1 line of Python code)\n",
    "# Task: Perform One-Hot encoding on cat_cols and save them into a dataframe called X_cat"
   ]
  },
  {
   "cell_type": "code",
   "execution_count": 180,
   "metadata": {
    "id": "Gv7PFYRONv0o"
   },
   "outputs": [],
   "source": [
    "# Solution\n",
    "X_cat = pd.DataFrame(ohe.fit_transform(df_cleaned[cat_cols]))"
   ]
  },
  {
   "cell_type": "code",
   "execution_count": 181,
   "metadata": {},
   "outputs": [
    {
     "data": {
      "text/html": [
       "<div>\n",
       "<style scoped>\n",
       "    .dataframe tbody tr th:only-of-type {\n",
       "        vertical-align: middle;\n",
       "    }\n",
       "\n",
       "    .dataframe tbody tr th {\n",
       "        vertical-align: top;\n",
       "    }\n",
       "\n",
       "    .dataframe thead th {\n",
       "        text-align: right;\n",
       "    }\n",
       "</style>\n",
       "<table border=\"1\" class=\"dataframe\">\n",
       "  <thead>\n",
       "    <tr style=\"text-align: right;\">\n",
       "      <th></th>\n",
       "      <th>0</th>\n",
       "      <th>1</th>\n",
       "      <th>2</th>\n",
       "      <th>3</th>\n",
       "      <th>4</th>\n",
       "      <th>5</th>\n",
       "      <th>6</th>\n",
       "      <th>7</th>\n",
       "      <th>8</th>\n",
       "      <th>9</th>\n",
       "      <th>...</th>\n",
       "      <th>61</th>\n",
       "      <th>62</th>\n",
       "      <th>63</th>\n",
       "      <th>64</th>\n",
       "      <th>65</th>\n",
       "      <th>66</th>\n",
       "      <th>67</th>\n",
       "      <th>68</th>\n",
       "      <th>69</th>\n",
       "      <th>70</th>\n",
       "    </tr>\n",
       "  </thead>\n",
       "  <tbody>\n",
       "    <tr>\n",
       "      <th>0</th>\n",
       "      <td>1.0</td>\n",
       "      <td>0.0</td>\n",
       "      <td>0.0</td>\n",
       "      <td>0.0</td>\n",
       "      <td>0.0</td>\n",
       "      <td>0.0</td>\n",
       "      <td>0.0</td>\n",
       "      <td>0.0</td>\n",
       "      <td>0.0</td>\n",
       "      <td>0.0</td>\n",
       "      <td>...</td>\n",
       "      <td>0.0</td>\n",
       "      <td>0.0</td>\n",
       "      <td>0.0</td>\n",
       "      <td>0.0</td>\n",
       "      <td>0.0</td>\n",
       "      <td>0.0</td>\n",
       "      <td>0.0</td>\n",
       "      <td>0.0</td>\n",
       "      <td>1.0</td>\n",
       "      <td>0.0</td>\n",
       "    </tr>\n",
       "    <tr>\n",
       "      <th>1</th>\n",
       "      <td>1.0</td>\n",
       "      <td>0.0</td>\n",
       "      <td>0.0</td>\n",
       "      <td>0.0</td>\n",
       "      <td>0.0</td>\n",
       "      <td>0.0</td>\n",
       "      <td>0.0</td>\n",
       "      <td>0.0</td>\n",
       "      <td>0.0</td>\n",
       "      <td>0.0</td>\n",
       "      <td>...</td>\n",
       "      <td>0.0</td>\n",
       "      <td>0.0</td>\n",
       "      <td>0.0</td>\n",
       "      <td>0.0</td>\n",
       "      <td>0.0</td>\n",
       "      <td>0.0</td>\n",
       "      <td>0.0</td>\n",
       "      <td>0.0</td>\n",
       "      <td>1.0</td>\n",
       "      <td>0.0</td>\n",
       "    </tr>\n",
       "    <tr>\n",
       "      <th>2</th>\n",
       "      <td>1.0</td>\n",
       "      <td>0.0</td>\n",
       "      <td>0.0</td>\n",
       "      <td>0.0</td>\n",
       "      <td>0.0</td>\n",
       "      <td>0.0</td>\n",
       "      <td>0.0</td>\n",
       "      <td>0.0</td>\n",
       "      <td>0.0</td>\n",
       "      <td>0.0</td>\n",
       "      <td>...</td>\n",
       "      <td>0.0</td>\n",
       "      <td>0.0</td>\n",
       "      <td>0.0</td>\n",
       "      <td>0.0</td>\n",
       "      <td>0.0</td>\n",
       "      <td>0.0</td>\n",
       "      <td>0.0</td>\n",
       "      <td>0.0</td>\n",
       "      <td>1.0</td>\n",
       "      <td>0.0</td>\n",
       "    </tr>\n",
       "    <tr>\n",
       "      <th>3</th>\n",
       "      <td>1.0</td>\n",
       "      <td>0.0</td>\n",
       "      <td>0.0</td>\n",
       "      <td>0.0</td>\n",
       "      <td>0.0</td>\n",
       "      <td>0.0</td>\n",
       "      <td>0.0</td>\n",
       "      <td>0.0</td>\n",
       "      <td>0.0</td>\n",
       "      <td>0.0</td>\n",
       "      <td>...</td>\n",
       "      <td>0.0</td>\n",
       "      <td>0.0</td>\n",
       "      <td>0.0</td>\n",
       "      <td>0.0</td>\n",
       "      <td>0.0</td>\n",
       "      <td>0.0</td>\n",
       "      <td>0.0</td>\n",
       "      <td>0.0</td>\n",
       "      <td>1.0</td>\n",
       "      <td>0.0</td>\n",
       "    </tr>\n",
       "    <tr>\n",
       "      <th>4</th>\n",
       "      <td>1.0</td>\n",
       "      <td>0.0</td>\n",
       "      <td>0.0</td>\n",
       "      <td>0.0</td>\n",
       "      <td>0.0</td>\n",
       "      <td>0.0</td>\n",
       "      <td>0.0</td>\n",
       "      <td>0.0</td>\n",
       "      <td>0.0</td>\n",
       "      <td>0.0</td>\n",
       "      <td>...</td>\n",
       "      <td>0.0</td>\n",
       "      <td>0.0</td>\n",
       "      <td>0.0</td>\n",
       "      <td>0.0</td>\n",
       "      <td>0.0</td>\n",
       "      <td>0.0</td>\n",
       "      <td>0.0</td>\n",
       "      <td>0.0</td>\n",
       "      <td>1.0</td>\n",
       "      <td>0.0</td>\n",
       "    </tr>\n",
       "    <tr>\n",
       "      <th>...</th>\n",
       "      <td>...</td>\n",
       "      <td>...</td>\n",
       "      <td>...</td>\n",
       "      <td>...</td>\n",
       "      <td>...</td>\n",
       "      <td>...</td>\n",
       "      <td>...</td>\n",
       "      <td>...</td>\n",
       "      <td>...</td>\n",
       "      <td>...</td>\n",
       "      <td>...</td>\n",
       "      <td>...</td>\n",
       "      <td>...</td>\n",
       "      <td>...</td>\n",
       "      <td>...</td>\n",
       "      <td>...</td>\n",
       "      <td>...</td>\n",
       "      <td>...</td>\n",
       "      <td>...</td>\n",
       "      <td>...</td>\n",
       "      <td>...</td>\n",
       "    </tr>\n",
       "    <tr>\n",
       "      <th>41752</th>\n",
       "      <td>0.0</td>\n",
       "      <td>0.0</td>\n",
       "      <td>0.0</td>\n",
       "      <td>0.0</td>\n",
       "      <td>0.0</td>\n",
       "      <td>0.0</td>\n",
       "      <td>0.0</td>\n",
       "      <td>0.0</td>\n",
       "      <td>0.0</td>\n",
       "      <td>0.0</td>\n",
       "      <td>...</td>\n",
       "      <td>0.0</td>\n",
       "      <td>1.0</td>\n",
       "      <td>0.0</td>\n",
       "      <td>0.0</td>\n",
       "      <td>0.0</td>\n",
       "      <td>0.0</td>\n",
       "      <td>0.0</td>\n",
       "      <td>1.0</td>\n",
       "      <td>0.0</td>\n",
       "      <td>0.0</td>\n",
       "    </tr>\n",
       "    <tr>\n",
       "      <th>41753</th>\n",
       "      <td>0.0</td>\n",
       "      <td>0.0</td>\n",
       "      <td>0.0</td>\n",
       "      <td>0.0</td>\n",
       "      <td>0.0</td>\n",
       "      <td>0.0</td>\n",
       "      <td>0.0</td>\n",
       "      <td>0.0</td>\n",
       "      <td>0.0</td>\n",
       "      <td>0.0</td>\n",
       "      <td>...</td>\n",
       "      <td>0.0</td>\n",
       "      <td>0.0</td>\n",
       "      <td>1.0</td>\n",
       "      <td>0.0</td>\n",
       "      <td>0.0</td>\n",
       "      <td>0.0</td>\n",
       "      <td>0.0</td>\n",
       "      <td>1.0</td>\n",
       "      <td>0.0</td>\n",
       "      <td>0.0</td>\n",
       "    </tr>\n",
       "    <tr>\n",
       "      <th>41754</th>\n",
       "      <td>0.0</td>\n",
       "      <td>0.0</td>\n",
       "      <td>0.0</td>\n",
       "      <td>0.0</td>\n",
       "      <td>0.0</td>\n",
       "      <td>0.0</td>\n",
       "      <td>0.0</td>\n",
       "      <td>0.0</td>\n",
       "      <td>0.0</td>\n",
       "      <td>0.0</td>\n",
       "      <td>...</td>\n",
       "      <td>0.0</td>\n",
       "      <td>0.0</td>\n",
       "      <td>0.0</td>\n",
       "      <td>1.0</td>\n",
       "      <td>0.0</td>\n",
       "      <td>0.0</td>\n",
       "      <td>0.0</td>\n",
       "      <td>1.0</td>\n",
       "      <td>0.0</td>\n",
       "      <td>0.0</td>\n",
       "    </tr>\n",
       "    <tr>\n",
       "      <th>41755</th>\n",
       "      <td>0.0</td>\n",
       "      <td>0.0</td>\n",
       "      <td>0.0</td>\n",
       "      <td>0.0</td>\n",
       "      <td>0.0</td>\n",
       "      <td>0.0</td>\n",
       "      <td>0.0</td>\n",
       "      <td>0.0</td>\n",
       "      <td>0.0</td>\n",
       "      <td>0.0</td>\n",
       "      <td>...</td>\n",
       "      <td>0.0</td>\n",
       "      <td>0.0</td>\n",
       "      <td>0.0</td>\n",
       "      <td>0.0</td>\n",
       "      <td>1.0</td>\n",
       "      <td>0.0</td>\n",
       "      <td>0.0</td>\n",
       "      <td>1.0</td>\n",
       "      <td>0.0</td>\n",
       "      <td>0.0</td>\n",
       "    </tr>\n",
       "    <tr>\n",
       "      <th>41756</th>\n",
       "      <td>0.0</td>\n",
       "      <td>0.0</td>\n",
       "      <td>0.0</td>\n",
       "      <td>0.0</td>\n",
       "      <td>0.0</td>\n",
       "      <td>0.0</td>\n",
       "      <td>0.0</td>\n",
       "      <td>0.0</td>\n",
       "      <td>0.0</td>\n",
       "      <td>0.0</td>\n",
       "      <td>...</td>\n",
       "      <td>0.0</td>\n",
       "      <td>0.0</td>\n",
       "      <td>0.0</td>\n",
       "      <td>0.0</td>\n",
       "      <td>0.0</td>\n",
       "      <td>1.0</td>\n",
       "      <td>0.0</td>\n",
       "      <td>1.0</td>\n",
       "      <td>0.0</td>\n",
       "      <td>0.0</td>\n",
       "    </tr>\n",
       "  </tbody>\n",
       "</table>\n",
       "<p>41757 rows × 71 columns</p>\n",
       "</div>"
      ],
      "text/plain": [
       "        0    1    2    3    4    5    6    7    8    9   ...   61   62   63  \\\n",
       "0      1.0  0.0  0.0  0.0  0.0  0.0  0.0  0.0  0.0  0.0  ...  0.0  0.0  0.0   \n",
       "1      1.0  0.0  0.0  0.0  0.0  0.0  0.0  0.0  0.0  0.0  ...  0.0  0.0  0.0   \n",
       "2      1.0  0.0  0.0  0.0  0.0  0.0  0.0  0.0  0.0  0.0  ...  0.0  0.0  0.0   \n",
       "3      1.0  0.0  0.0  0.0  0.0  0.0  0.0  0.0  0.0  0.0  ...  0.0  0.0  0.0   \n",
       "4      1.0  0.0  0.0  0.0  0.0  0.0  0.0  0.0  0.0  0.0  ...  0.0  0.0  0.0   \n",
       "...    ...  ...  ...  ...  ...  ...  ...  ...  ...  ...  ...  ...  ...  ...   \n",
       "41752  0.0  0.0  0.0  0.0  0.0  0.0  0.0  0.0  0.0  0.0  ...  0.0  1.0  0.0   \n",
       "41753  0.0  0.0  0.0  0.0  0.0  0.0  0.0  0.0  0.0  0.0  ...  0.0  0.0  1.0   \n",
       "41754  0.0  0.0  0.0  0.0  0.0  0.0  0.0  0.0  0.0  0.0  ...  0.0  0.0  0.0   \n",
       "41755  0.0  0.0  0.0  0.0  0.0  0.0  0.0  0.0  0.0  0.0  ...  0.0  0.0  0.0   \n",
       "41756  0.0  0.0  0.0  0.0  0.0  0.0  0.0  0.0  0.0  0.0  ...  0.0  0.0  0.0   \n",
       "\n",
       "        64   65   66   67   68   69   70  \n",
       "0      0.0  0.0  0.0  0.0  0.0  1.0  0.0  \n",
       "1      0.0  0.0  0.0  0.0  0.0  1.0  0.0  \n",
       "2      0.0  0.0  0.0  0.0  0.0  1.0  0.0  \n",
       "3      0.0  0.0  0.0  0.0  0.0  1.0  0.0  \n",
       "4      0.0  0.0  0.0  0.0  0.0  1.0  0.0  \n",
       "...    ...  ...  ...  ...  ...  ...  ...  \n",
       "41752  0.0  0.0  0.0  0.0  1.0  0.0  0.0  \n",
       "41753  0.0  0.0  0.0  0.0  1.0  0.0  0.0  \n",
       "41754  1.0  0.0  0.0  0.0  1.0  0.0  0.0  \n",
       "41755  0.0  1.0  0.0  0.0  1.0  0.0  0.0  \n",
       "41756  0.0  0.0  1.0  0.0  1.0  0.0  0.0  \n",
       "\n",
       "[41757 rows x 71 columns]"
      ]
     },
     "execution_count": 181,
     "metadata": {},
     "output_type": "execute_result"
    }
   ],
   "source": [
    "X_cat"
   ]
  },
  {
   "cell_type": "markdown",
   "metadata": {
    "id": "Uo-a_TQpYyOA"
   },
   "source": [
    "**[3.12]** Extract the feature names from `ohe` and replace the names of the columns of the `X_cat`"
   ]
  },
  {
   "cell_type": "code",
   "execution_count": 182,
   "metadata": {
    "id": "t3QzwB38YyZG"
   },
   "outputs": [],
   "source": [
    "# Placeholder for student's code (1 line of Python code)\n",
    "# Task: Extract the feature names from ohe and replace the names of the columns of the X_cat"
   ]
  },
  {
   "cell_type": "code",
   "execution_count": 183,
   "metadata": {
    "id": "L5RmoZq1YyiQ"
   },
   "outputs": [],
   "source": [
    "# Solution\n",
    "X_cat.columns = ohe.get_feature_names(cat_cols)"
   ]
  },
  {
   "cell_type": "code",
   "execution_count": 184,
   "metadata": {},
   "outputs": [
    {
     "data": {
      "text/plain": [
       "array(['month_1', 'month_2', 'month_3', 'month_4', 'month_5', 'month_6',\n",
       "       'month_7', 'month_8', 'month_9', 'month_10', 'month_11',\n",
       "       'month_12', 'day_1', 'day_2', 'day_3', 'day_4', 'day_5', 'day_6',\n",
       "       'day_7', 'day_8', 'day_9', 'day_10', 'day_11', 'day_12', 'day_13',\n",
       "       'day_14', 'day_15', 'day_16', 'day_17', 'day_18', 'day_19',\n",
       "       'day_20', 'day_21', 'day_22', 'day_23', 'day_24', 'day_25',\n",
       "       'day_26', 'day_27', 'day_28', 'day_29', 'day_30', 'day_31',\n",
       "       'hour_0', 'hour_1', 'hour_2', 'hour_3', 'hour_4', 'hour_5',\n",
       "       'hour_6', 'hour_7', 'hour_8', 'hour_9', 'hour_10', 'hour_11',\n",
       "       'hour_12', 'hour_13', 'hour_14', 'hour_15', 'hour_16', 'hour_17',\n",
       "       'hour_18', 'hour_19', 'hour_20', 'hour_21', 'hour_22', 'hour_23',\n",
       "       'cbwd_NE', 'cbwd_NW', 'cbwd_SE', 'cbwd_cv'], dtype=object)"
      ]
     },
     "execution_count": 184,
     "metadata": {},
     "output_type": "execute_result"
    }
   ],
   "source": [
    "ohe.get_feature_names(cat_cols)"
   ]
  },
  {
   "cell_type": "markdown",
   "metadata": {
    "id": "HjseyrsDYzdO"
   },
   "source": [
    "**[3.13]** Drop the original columns of `cat_cols` from `df_cleaned`"
   ]
  },
  {
   "cell_type": "code",
   "execution_count": 185,
   "metadata": {
    "id": "fYkPZCDEYzmS"
   },
   "outputs": [],
   "source": [
    "# Placeholder for student's code (1 line of Python code)\n",
    "# Task: Drop the original columns of cat_cols from df_cleaned"
   ]
  },
  {
   "cell_type": "code",
   "execution_count": 186,
   "metadata": {
    "id": "ysPhEhxfYztM"
   },
   "outputs": [],
   "source": [
    "# Solution\n",
    "df_cleaned.drop(cat_cols, axis=1, inplace=True)"
   ]
  },
  {
   "cell_type": "code",
   "execution_count": 187,
   "metadata": {},
   "outputs": [
    {
     "data": {
      "text/html": [
       "<div>\n",
       "<style scoped>\n",
       "    .dataframe tbody tr th:only-of-type {\n",
       "        vertical-align: middle;\n",
       "    }\n",
       "\n",
       "    .dataframe tbody tr th {\n",
       "        vertical-align: top;\n",
       "    }\n",
       "\n",
       "    .dataframe thead th {\n",
       "        text-align: right;\n",
       "    }\n",
       "</style>\n",
       "<table border=\"1\" class=\"dataframe\">\n",
       "  <thead>\n",
       "    <tr style=\"text-align: right;\">\n",
       "      <th></th>\n",
       "      <th>year</th>\n",
       "      <th>pm2.5</th>\n",
       "      <th>DEWP</th>\n",
       "      <th>TEMP</th>\n",
       "      <th>PRES</th>\n",
       "      <th>Iws</th>\n",
       "      <th>Is</th>\n",
       "      <th>Ir</th>\n",
       "    </tr>\n",
       "  </thead>\n",
       "  <tbody>\n",
       "    <tr>\n",
       "      <th>0</th>\n",
       "      <td>-1.443355</td>\n",
       "      <td>129.0</td>\n",
       "      <td>-1.229791</td>\n",
       "      <td>-1.347143</td>\n",
       "      <td>0.345329</td>\n",
       "      <td>-0.444944</td>\n",
       "      <td>-0.071057</td>\n",
       "      <td>-0.137408</td>\n",
       "    </tr>\n",
       "    <tr>\n",
       "      <th>1</th>\n",
       "      <td>-1.443355</td>\n",
       "      <td>148.0</td>\n",
       "      <td>-1.160508</td>\n",
       "      <td>-1.347143</td>\n",
       "      <td>0.345329</td>\n",
       "      <td>-0.427007</td>\n",
       "      <td>-0.071057</td>\n",
       "      <td>-0.137408</td>\n",
       "    </tr>\n",
       "    <tr>\n",
       "      <th>2</th>\n",
       "      <td>-1.443355</td>\n",
       "      <td>159.0</td>\n",
       "      <td>-0.883375</td>\n",
       "      <td>-1.429278</td>\n",
       "      <td>0.442411</td>\n",
       "      <td>-0.409069</td>\n",
       "      <td>-0.071057</td>\n",
       "      <td>-0.137408</td>\n",
       "    </tr>\n",
       "    <tr>\n",
       "      <th>3</th>\n",
       "      <td>-1.443355</td>\n",
       "      <td>181.0</td>\n",
       "      <td>-0.606241</td>\n",
       "      <td>-1.429278</td>\n",
       "      <td>0.539493</td>\n",
       "      <td>-0.372993</td>\n",
       "      <td>1.212862</td>\n",
       "      <td>-0.137408</td>\n",
       "    </tr>\n",
       "    <tr>\n",
       "      <th>4</th>\n",
       "      <td>-1.443355</td>\n",
       "      <td>138.0</td>\n",
       "      <td>-0.606241</td>\n",
       "      <td>-1.429278</td>\n",
       "      <td>0.539493</td>\n",
       "      <td>-0.355055</td>\n",
       "      <td>2.496781</td>\n",
       "      <td>-0.137408</td>\n",
       "    </tr>\n",
       "    <tr>\n",
       "      <th>...</th>\n",
       "      <td>...</td>\n",
       "      <td>...</td>\n",
       "      <td>...</td>\n",
       "      <td>...</td>\n",
       "      <td>...</td>\n",
       "      <td>...</td>\n",
       "      <td>...</td>\n",
       "      <td>...</td>\n",
       "    </tr>\n",
       "    <tr>\n",
       "      <th>41752</th>\n",
       "      <td>1.382914</td>\n",
       "      <td>8.0</td>\n",
       "      <td>-1.714775</td>\n",
       "      <td>-1.182873</td>\n",
       "      <td>1.704472</td>\n",
       "      <td>4.194201</td>\n",
       "      <td>-0.071057</td>\n",
       "      <td>-0.137408</td>\n",
       "    </tr>\n",
       "    <tr>\n",
       "      <th>41753</th>\n",
       "      <td>1.382914</td>\n",
       "      <td>10.0</td>\n",
       "      <td>-1.645491</td>\n",
       "      <td>-1.265008</td>\n",
       "      <td>1.704472</td>\n",
       "      <td>4.311298</td>\n",
       "      <td>-0.071057</td>\n",
       "      <td>-0.137408</td>\n",
       "    </tr>\n",
       "    <tr>\n",
       "      <th>41754</th>\n",
       "      <td>1.382914</td>\n",
       "      <td>10.0</td>\n",
       "      <td>-1.645491</td>\n",
       "      <td>-1.265008</td>\n",
       "      <td>1.704472</td>\n",
       "      <td>4.410458</td>\n",
       "      <td>-0.071057</td>\n",
       "      <td>-0.137408</td>\n",
       "    </tr>\n",
       "    <tr>\n",
       "      <th>41755</th>\n",
       "      <td>1.382914</td>\n",
       "      <td>8.0</td>\n",
       "      <td>-1.645491</td>\n",
       "      <td>-1.347143</td>\n",
       "      <td>1.704472</td>\n",
       "      <td>4.491479</td>\n",
       "      <td>-0.071057</td>\n",
       "      <td>-0.137408</td>\n",
       "    </tr>\n",
       "    <tr>\n",
       "      <th>41756</th>\n",
       "      <td>1.382914</td>\n",
       "      <td>12.0</td>\n",
       "      <td>-1.576208</td>\n",
       "      <td>-1.265008</td>\n",
       "      <td>1.704472</td>\n",
       "      <td>4.554562</td>\n",
       "      <td>-0.071057</td>\n",
       "      <td>-0.137408</td>\n",
       "    </tr>\n",
       "  </tbody>\n",
       "</table>\n",
       "<p>41757 rows × 8 columns</p>\n",
       "</div>"
      ],
      "text/plain": [
       "           year  pm2.5      DEWP      TEMP      PRES       Iws        Is  \\\n",
       "0     -1.443355  129.0 -1.229791 -1.347143  0.345329 -0.444944 -0.071057   \n",
       "1     -1.443355  148.0 -1.160508 -1.347143  0.345329 -0.427007 -0.071057   \n",
       "2     -1.443355  159.0 -0.883375 -1.429278  0.442411 -0.409069 -0.071057   \n",
       "3     -1.443355  181.0 -0.606241 -1.429278  0.539493 -0.372993  1.212862   \n",
       "4     -1.443355  138.0 -0.606241 -1.429278  0.539493 -0.355055  2.496781   \n",
       "...         ...    ...       ...       ...       ...       ...       ...   \n",
       "41752  1.382914    8.0 -1.714775 -1.182873  1.704472  4.194201 -0.071057   \n",
       "41753  1.382914   10.0 -1.645491 -1.265008  1.704472  4.311298 -0.071057   \n",
       "41754  1.382914   10.0 -1.645491 -1.265008  1.704472  4.410458 -0.071057   \n",
       "41755  1.382914    8.0 -1.645491 -1.347143  1.704472  4.491479 -0.071057   \n",
       "41756  1.382914   12.0 -1.576208 -1.265008  1.704472  4.554562 -0.071057   \n",
       "\n",
       "             Ir  \n",
       "0     -0.137408  \n",
       "1     -0.137408  \n",
       "2     -0.137408  \n",
       "3     -0.137408  \n",
       "4     -0.137408  \n",
       "...         ...  \n",
       "41752 -0.137408  \n",
       "41753 -0.137408  \n",
       "41754 -0.137408  \n",
       "41755 -0.137408  \n",
       "41756 -0.137408  \n",
       "\n",
       "[41757 rows x 8 columns]"
      ]
     },
     "execution_count": 187,
     "metadata": {},
     "output_type": "execute_result"
    }
   ],
   "source": [
    "df_cleaned"
   ]
  },
  {
   "cell_type": "markdown",
   "metadata": {
    "id": "8UjZDvdZN7N6"
   },
   "source": [
    "**[3.14]** Concatenate `df_cleaned` with `X_cat` and save the result to a variable called `X`"
   ]
  },
  {
   "cell_type": "code",
   "execution_count": 188,
   "metadata": {
    "id": "fuh8_CLXN66d"
   },
   "outputs": [],
   "source": [
    "# Placeholder for student's code (1 line of Python code)\n",
    "# Task: Concatenate df_cleaned with X_cat and save the result to a variable called X"
   ]
  },
  {
   "cell_type": "code",
   "execution_count": 189,
   "metadata": {
    "id": "qsTYYnsSN7Wl"
   },
   "outputs": [],
   "source": [
    "# Solution\n",
    "X = pd.concat([df_cleaned, X_cat], axis=1)"
   ]
  },
  {
   "cell_type": "code",
   "execution_count": 190,
   "metadata": {},
   "outputs": [
    {
     "data": {
      "text/html": [
       "<div>\n",
       "<style scoped>\n",
       "    .dataframe tbody tr th:only-of-type {\n",
       "        vertical-align: middle;\n",
       "    }\n",
       "\n",
       "    .dataframe tbody tr th {\n",
       "        vertical-align: top;\n",
       "    }\n",
       "\n",
       "    .dataframe thead th {\n",
       "        text-align: right;\n",
       "    }\n",
       "</style>\n",
       "<table border=\"1\" class=\"dataframe\">\n",
       "  <thead>\n",
       "    <tr style=\"text-align: right;\">\n",
       "      <th></th>\n",
       "      <th>year</th>\n",
       "      <th>pm2.5</th>\n",
       "      <th>DEWP</th>\n",
       "      <th>TEMP</th>\n",
       "      <th>PRES</th>\n",
       "      <th>Iws</th>\n",
       "      <th>Is</th>\n",
       "      <th>Ir</th>\n",
       "      <th>month_1</th>\n",
       "      <th>month_2</th>\n",
       "      <th>...</th>\n",
       "      <th>hour_18</th>\n",
       "      <th>hour_19</th>\n",
       "      <th>hour_20</th>\n",
       "      <th>hour_21</th>\n",
       "      <th>hour_22</th>\n",
       "      <th>hour_23</th>\n",
       "      <th>cbwd_NE</th>\n",
       "      <th>cbwd_NW</th>\n",
       "      <th>cbwd_SE</th>\n",
       "      <th>cbwd_cv</th>\n",
       "    </tr>\n",
       "  </thead>\n",
       "  <tbody>\n",
       "    <tr>\n",
       "      <th>0</th>\n",
       "      <td>-1.443355</td>\n",
       "      <td>129.0</td>\n",
       "      <td>-1.229791</td>\n",
       "      <td>-1.347143</td>\n",
       "      <td>0.345329</td>\n",
       "      <td>-0.444944</td>\n",
       "      <td>-0.071057</td>\n",
       "      <td>-0.137408</td>\n",
       "      <td>1.0</td>\n",
       "      <td>0.0</td>\n",
       "      <td>...</td>\n",
       "      <td>0.0</td>\n",
       "      <td>0.0</td>\n",
       "      <td>0.0</td>\n",
       "      <td>0.0</td>\n",
       "      <td>0.0</td>\n",
       "      <td>0.0</td>\n",
       "      <td>0.0</td>\n",
       "      <td>0.0</td>\n",
       "      <td>1.0</td>\n",
       "      <td>0.0</td>\n",
       "    </tr>\n",
       "    <tr>\n",
       "      <th>1</th>\n",
       "      <td>-1.443355</td>\n",
       "      <td>148.0</td>\n",
       "      <td>-1.160508</td>\n",
       "      <td>-1.347143</td>\n",
       "      <td>0.345329</td>\n",
       "      <td>-0.427007</td>\n",
       "      <td>-0.071057</td>\n",
       "      <td>-0.137408</td>\n",
       "      <td>1.0</td>\n",
       "      <td>0.0</td>\n",
       "      <td>...</td>\n",
       "      <td>0.0</td>\n",
       "      <td>0.0</td>\n",
       "      <td>0.0</td>\n",
       "      <td>0.0</td>\n",
       "      <td>0.0</td>\n",
       "      <td>0.0</td>\n",
       "      <td>0.0</td>\n",
       "      <td>0.0</td>\n",
       "      <td>1.0</td>\n",
       "      <td>0.0</td>\n",
       "    </tr>\n",
       "    <tr>\n",
       "      <th>2</th>\n",
       "      <td>-1.443355</td>\n",
       "      <td>159.0</td>\n",
       "      <td>-0.883375</td>\n",
       "      <td>-1.429278</td>\n",
       "      <td>0.442411</td>\n",
       "      <td>-0.409069</td>\n",
       "      <td>-0.071057</td>\n",
       "      <td>-0.137408</td>\n",
       "      <td>1.0</td>\n",
       "      <td>0.0</td>\n",
       "      <td>...</td>\n",
       "      <td>0.0</td>\n",
       "      <td>0.0</td>\n",
       "      <td>0.0</td>\n",
       "      <td>0.0</td>\n",
       "      <td>0.0</td>\n",
       "      <td>0.0</td>\n",
       "      <td>0.0</td>\n",
       "      <td>0.0</td>\n",
       "      <td>1.0</td>\n",
       "      <td>0.0</td>\n",
       "    </tr>\n",
       "    <tr>\n",
       "      <th>3</th>\n",
       "      <td>-1.443355</td>\n",
       "      <td>181.0</td>\n",
       "      <td>-0.606241</td>\n",
       "      <td>-1.429278</td>\n",
       "      <td>0.539493</td>\n",
       "      <td>-0.372993</td>\n",
       "      <td>1.212862</td>\n",
       "      <td>-0.137408</td>\n",
       "      <td>1.0</td>\n",
       "      <td>0.0</td>\n",
       "      <td>...</td>\n",
       "      <td>0.0</td>\n",
       "      <td>0.0</td>\n",
       "      <td>0.0</td>\n",
       "      <td>0.0</td>\n",
       "      <td>0.0</td>\n",
       "      <td>0.0</td>\n",
       "      <td>0.0</td>\n",
       "      <td>0.0</td>\n",
       "      <td>1.0</td>\n",
       "      <td>0.0</td>\n",
       "    </tr>\n",
       "    <tr>\n",
       "      <th>4</th>\n",
       "      <td>-1.443355</td>\n",
       "      <td>138.0</td>\n",
       "      <td>-0.606241</td>\n",
       "      <td>-1.429278</td>\n",
       "      <td>0.539493</td>\n",
       "      <td>-0.355055</td>\n",
       "      <td>2.496781</td>\n",
       "      <td>-0.137408</td>\n",
       "      <td>1.0</td>\n",
       "      <td>0.0</td>\n",
       "      <td>...</td>\n",
       "      <td>0.0</td>\n",
       "      <td>0.0</td>\n",
       "      <td>0.0</td>\n",
       "      <td>0.0</td>\n",
       "      <td>0.0</td>\n",
       "      <td>0.0</td>\n",
       "      <td>0.0</td>\n",
       "      <td>0.0</td>\n",
       "      <td>1.0</td>\n",
       "      <td>0.0</td>\n",
       "    </tr>\n",
       "    <tr>\n",
       "      <th>...</th>\n",
       "      <td>...</td>\n",
       "      <td>...</td>\n",
       "      <td>...</td>\n",
       "      <td>...</td>\n",
       "      <td>...</td>\n",
       "      <td>...</td>\n",
       "      <td>...</td>\n",
       "      <td>...</td>\n",
       "      <td>...</td>\n",
       "      <td>...</td>\n",
       "      <td>...</td>\n",
       "      <td>...</td>\n",
       "      <td>...</td>\n",
       "      <td>...</td>\n",
       "      <td>...</td>\n",
       "      <td>...</td>\n",
       "      <td>...</td>\n",
       "      <td>...</td>\n",
       "      <td>...</td>\n",
       "      <td>...</td>\n",
       "      <td>...</td>\n",
       "    </tr>\n",
       "    <tr>\n",
       "      <th>41752</th>\n",
       "      <td>1.382914</td>\n",
       "      <td>8.0</td>\n",
       "      <td>-1.714775</td>\n",
       "      <td>-1.182873</td>\n",
       "      <td>1.704472</td>\n",
       "      <td>4.194201</td>\n",
       "      <td>-0.071057</td>\n",
       "      <td>-0.137408</td>\n",
       "      <td>0.0</td>\n",
       "      <td>0.0</td>\n",
       "      <td>...</td>\n",
       "      <td>0.0</td>\n",
       "      <td>1.0</td>\n",
       "      <td>0.0</td>\n",
       "      <td>0.0</td>\n",
       "      <td>0.0</td>\n",
       "      <td>0.0</td>\n",
       "      <td>0.0</td>\n",
       "      <td>1.0</td>\n",
       "      <td>0.0</td>\n",
       "      <td>0.0</td>\n",
       "    </tr>\n",
       "    <tr>\n",
       "      <th>41753</th>\n",
       "      <td>1.382914</td>\n",
       "      <td>10.0</td>\n",
       "      <td>-1.645491</td>\n",
       "      <td>-1.265008</td>\n",
       "      <td>1.704472</td>\n",
       "      <td>4.311298</td>\n",
       "      <td>-0.071057</td>\n",
       "      <td>-0.137408</td>\n",
       "      <td>0.0</td>\n",
       "      <td>0.0</td>\n",
       "      <td>...</td>\n",
       "      <td>0.0</td>\n",
       "      <td>0.0</td>\n",
       "      <td>1.0</td>\n",
       "      <td>0.0</td>\n",
       "      <td>0.0</td>\n",
       "      <td>0.0</td>\n",
       "      <td>0.0</td>\n",
       "      <td>1.0</td>\n",
       "      <td>0.0</td>\n",
       "      <td>0.0</td>\n",
       "    </tr>\n",
       "    <tr>\n",
       "      <th>41754</th>\n",
       "      <td>1.382914</td>\n",
       "      <td>10.0</td>\n",
       "      <td>-1.645491</td>\n",
       "      <td>-1.265008</td>\n",
       "      <td>1.704472</td>\n",
       "      <td>4.410458</td>\n",
       "      <td>-0.071057</td>\n",
       "      <td>-0.137408</td>\n",
       "      <td>0.0</td>\n",
       "      <td>0.0</td>\n",
       "      <td>...</td>\n",
       "      <td>0.0</td>\n",
       "      <td>0.0</td>\n",
       "      <td>0.0</td>\n",
       "      <td>1.0</td>\n",
       "      <td>0.0</td>\n",
       "      <td>0.0</td>\n",
       "      <td>0.0</td>\n",
       "      <td>1.0</td>\n",
       "      <td>0.0</td>\n",
       "      <td>0.0</td>\n",
       "    </tr>\n",
       "    <tr>\n",
       "      <th>41755</th>\n",
       "      <td>1.382914</td>\n",
       "      <td>8.0</td>\n",
       "      <td>-1.645491</td>\n",
       "      <td>-1.347143</td>\n",
       "      <td>1.704472</td>\n",
       "      <td>4.491479</td>\n",
       "      <td>-0.071057</td>\n",
       "      <td>-0.137408</td>\n",
       "      <td>0.0</td>\n",
       "      <td>0.0</td>\n",
       "      <td>...</td>\n",
       "      <td>0.0</td>\n",
       "      <td>0.0</td>\n",
       "      <td>0.0</td>\n",
       "      <td>0.0</td>\n",
       "      <td>1.0</td>\n",
       "      <td>0.0</td>\n",
       "      <td>0.0</td>\n",
       "      <td>1.0</td>\n",
       "      <td>0.0</td>\n",
       "      <td>0.0</td>\n",
       "    </tr>\n",
       "    <tr>\n",
       "      <th>41756</th>\n",
       "      <td>1.382914</td>\n",
       "      <td>12.0</td>\n",
       "      <td>-1.576208</td>\n",
       "      <td>-1.265008</td>\n",
       "      <td>1.704472</td>\n",
       "      <td>4.554562</td>\n",
       "      <td>-0.071057</td>\n",
       "      <td>-0.137408</td>\n",
       "      <td>0.0</td>\n",
       "      <td>0.0</td>\n",
       "      <td>...</td>\n",
       "      <td>0.0</td>\n",
       "      <td>0.0</td>\n",
       "      <td>0.0</td>\n",
       "      <td>0.0</td>\n",
       "      <td>0.0</td>\n",
       "      <td>1.0</td>\n",
       "      <td>0.0</td>\n",
       "      <td>1.0</td>\n",
       "      <td>0.0</td>\n",
       "      <td>0.0</td>\n",
       "    </tr>\n",
       "  </tbody>\n",
       "</table>\n",
       "<p>41757 rows × 79 columns</p>\n",
       "</div>"
      ],
      "text/plain": [
       "           year  pm2.5      DEWP      TEMP      PRES       Iws        Is  \\\n",
       "0     -1.443355  129.0 -1.229791 -1.347143  0.345329 -0.444944 -0.071057   \n",
       "1     -1.443355  148.0 -1.160508 -1.347143  0.345329 -0.427007 -0.071057   \n",
       "2     -1.443355  159.0 -0.883375 -1.429278  0.442411 -0.409069 -0.071057   \n",
       "3     -1.443355  181.0 -0.606241 -1.429278  0.539493 -0.372993  1.212862   \n",
       "4     -1.443355  138.0 -0.606241 -1.429278  0.539493 -0.355055  2.496781   \n",
       "...         ...    ...       ...       ...       ...       ...       ...   \n",
       "41752  1.382914    8.0 -1.714775 -1.182873  1.704472  4.194201 -0.071057   \n",
       "41753  1.382914   10.0 -1.645491 -1.265008  1.704472  4.311298 -0.071057   \n",
       "41754  1.382914   10.0 -1.645491 -1.265008  1.704472  4.410458 -0.071057   \n",
       "41755  1.382914    8.0 -1.645491 -1.347143  1.704472  4.491479 -0.071057   \n",
       "41756  1.382914   12.0 -1.576208 -1.265008  1.704472  4.554562 -0.071057   \n",
       "\n",
       "             Ir  month_1  month_2  ...  hour_18  hour_19  hour_20  hour_21  \\\n",
       "0     -0.137408      1.0      0.0  ...      0.0      0.0      0.0      0.0   \n",
       "1     -0.137408      1.0      0.0  ...      0.0      0.0      0.0      0.0   \n",
       "2     -0.137408      1.0      0.0  ...      0.0      0.0      0.0      0.0   \n",
       "3     -0.137408      1.0      0.0  ...      0.0      0.0      0.0      0.0   \n",
       "4     -0.137408      1.0      0.0  ...      0.0      0.0      0.0      0.0   \n",
       "...         ...      ...      ...  ...      ...      ...      ...      ...   \n",
       "41752 -0.137408      0.0      0.0  ...      0.0      1.0      0.0      0.0   \n",
       "41753 -0.137408      0.0      0.0  ...      0.0      0.0      1.0      0.0   \n",
       "41754 -0.137408      0.0      0.0  ...      0.0      0.0      0.0      1.0   \n",
       "41755 -0.137408      0.0      0.0  ...      0.0      0.0      0.0      0.0   \n",
       "41756 -0.137408      0.0      0.0  ...      0.0      0.0      0.0      0.0   \n",
       "\n",
       "       hour_22  hour_23  cbwd_NE  cbwd_NW  cbwd_SE  cbwd_cv  \n",
       "0          0.0      0.0      0.0      0.0      1.0      0.0  \n",
       "1          0.0      0.0      0.0      0.0      1.0      0.0  \n",
       "2          0.0      0.0      0.0      0.0      1.0      0.0  \n",
       "3          0.0      0.0      0.0      0.0      1.0      0.0  \n",
       "4          0.0      0.0      0.0      0.0      1.0      0.0  \n",
       "...        ...      ...      ...      ...      ...      ...  \n",
       "41752      0.0      0.0      0.0      1.0      0.0      0.0  \n",
       "41753      0.0      0.0      0.0      1.0      0.0      0.0  \n",
       "41754      0.0      0.0      0.0      1.0      0.0      0.0  \n",
       "41755      1.0      0.0      0.0      1.0      0.0      0.0  \n",
       "41756      0.0      1.0      0.0      1.0      0.0      0.0  \n",
       "\n",
       "[41757 rows x 79 columns]"
      ]
     },
     "execution_count": 190,
     "metadata": {},
     "output_type": "execute_result"
    }
   ],
   "source": [
    "X"
   ]
  },
  {
   "cell_type": "markdown",
   "metadata": {
    "id": "Cx4JAuiuzaIe"
   },
   "source": [
    "**[3.15]** Import `split_sets_by_time` and `save_sets` from `src.data.sets`"
   ]
  },
  {
   "cell_type": "code",
   "execution_count": 191,
   "metadata": {
    "id": "9F1r617azaTb"
   },
   "outputs": [],
   "source": [
    "# Placeholder for student's code (1 line of Python code)\n",
    "# Task: Import train_test_split from sklearn.model_selection"
   ]
  },
  {
   "cell_type": "code",
   "execution_count": 192,
   "metadata": {
    "id": "OOefCMTLzaRQ"
   },
   "outputs": [],
   "source": [
    "# Solution\n",
    "from src.data.sets import split_sets_by_time, save_sets"
   ]
  },
  {
   "cell_type": "markdown",
   "metadata": {
    "id": "X7DCMLV6TBjr"
   },
   "source": [
    "**[3.16]** Split the data into training and testing sets with 80-20 ratio"
   ]
  },
  {
   "cell_type": "code",
   "execution_count": 193,
   "metadata": {
    "id": "KF8jX4Y7TBtB"
   },
   "outputs": [],
   "source": [
    "# Placeholder for student's code (1 line of Python code)\n",
    "# Task: Split the data into training and testing sets with 80-20 ratio"
   ]
  },
  {
   "cell_type": "code",
   "execution_count": 194,
   "metadata": {
    "id": "ICjW0_-4TBvu"
   },
   "outputs": [],
   "source": [
    "# Solution\n",
    "X_train, y_train, X_val, y_val, X_test, y_test = split_sets_by_time(X, target_col='pm2.5', test_ratio=0.2)"
   ]
  },
  {
   "cell_type": "markdown",
   "metadata": {
    "id": "Bvx44G2_Wqy4"
   },
   "source": [
    "**[3.17]** Create the following folder: `data/processed/beijing_pollution`"
   ]
  },
  {
   "cell_type": "code",
   "execution_count": 195,
   "metadata": {
    "id": "Jm3cSvCSWqy5"
   },
   "outputs": [
    {
     "name": "stdout",
     "output_type": "stream",
     "text": [
      "/bin/mkdir: cannot create directory ‘../data/processed/beijing_pollution’: File exists\n"
     ]
    }
   ],
   "source": [
    "!mkdir ../data/processed/beijing_pollution"
   ]
  },
  {
   "cell_type": "markdown",
   "metadata": {
    "id": "J--rD8iNRH8B"
   },
   "source": [
    "**[3.18]** Save the sets in the `data/processed/beijing_pollution` folder"
   ]
  },
  {
   "cell_type": "code",
   "execution_count": 196,
   "metadata": {
    "id": "_6HFmPRbRICt"
   },
   "outputs": [],
   "source": [
    "# Placeholder for student's code (1 line of Python code)\n",
    "# Task: Save the sets in the data/processed/beijing_pollution folder"
   ]
  },
  {
   "cell_type": "code",
   "execution_count": 197,
   "metadata": {
    "id": "_wO5x1RlRIE6"
   },
   "outputs": [],
   "source": [
    "save_sets(X_train=X_train, y_train=y_train, X_val=X_val, y_val=y_val, X_test=X_test, y_test=y_test, path='../data/processed/beijing_pollution/')"
   ]
  },
  {
   "cell_type": "markdown",
   "metadata": {
    "id": "N8MNBrC4Zgz6"
   },
   "source": [
    "### 4. Baseline Model"
   ]
  },
  {
   "cell_type": "markdown",
   "metadata": {
    "id": "3Lt1lE8lJ9zS"
   },
   "source": [
    "**[4.1]** Import `NullModel` from `src.models.null`"
   ]
  },
  {
   "cell_type": "code",
   "execution_count": 198,
   "metadata": {
    "id": "Kc6UHpDqJ96o"
   },
   "outputs": [],
   "source": [
    "# Placeholder for student's code (1 line of Python code)\n",
    "# Task: Import NullModel from src.models.null"
   ]
  },
  {
   "cell_type": "code",
   "execution_count": 199,
   "metadata": {
    "id": "2xufkK8VJ99s"
   },
   "outputs": [],
   "source": [
    "# Solution\n",
    "from src.models.null import NullModel"
   ]
  },
  {
   "cell_type": "markdown",
   "metadata": {
    "id": "sJNZfvA4dJ9X"
   },
   "source": [
    "**[4.2]** Instantiate a `NullModel` and call `.fit_predict()` on the training target to extract your predictions into a variable called `y_base`"
   ]
  },
  {
   "cell_type": "code",
   "execution_count": 200,
   "metadata": {
    "id": "Rdui0TivdKGE"
   },
   "outputs": [],
   "source": [
    "# Placeholder for student's code (2 lines of Python code)\n",
    "# Task: Instantiate a NullModel and call .fit_predict() on the training target to extract your predictions into a variable called y_base"
   ]
  },
  {
   "cell_type": "code",
   "execution_count": 217,
   "metadata": {
    "id": "fev4FWAYdU1G"
   },
   "outputs": [],
   "source": [
    "# Solution:\n",
    "baseline_model = NullModel()\n",
    "y_base = baseline_model.fit_predict(y_train)"
   ]
  },
  {
   "cell_type": "markdown",
   "metadata": {
    "id": "kRLIZeci7cfW"
   },
   "source": [
    "**[4.3]** Import `print_reg_perf` from `src.models.performance`"
   ]
  },
  {
   "cell_type": "code",
   "execution_count": 202,
   "metadata": {
    "id": "QehpZw7n7coW"
   },
   "outputs": [],
   "source": [
    "# Placeholder for student's code (1 line of Python code)\n",
    "# Task: Import print_reg_perf from src.models.performance"
   ]
  },
  {
   "cell_type": "code",
   "execution_count": 218,
   "metadata": {
    "id": "Z1Jt8WX57cqn"
   },
   "outputs": [],
   "source": [
    "# Solution:\n",
    "from src.models.performance import print_reg_perf"
   ]
  },
  {
   "cell_type": "markdown",
   "metadata": {
    "id": "zlv1ny8Jg10r"
   },
   "source": [
    "**[4.4]** Print the regression metrics for this baseline model"
   ]
  },
  {
   "cell_type": "code",
   "execution_count": 219,
   "metadata": {
    "id": "PpAhpa4zg17X"
   },
   "outputs": [],
   "source": [
    "# Placeholder for student's code (1 line of Python code)\n",
    "# Task: Print the regression metrics for this baseline model"
   ]
  },
  {
   "cell_type": "code",
   "execution_count": 220,
   "metadata": {
    "id": "n4DoenMJg2AC",
    "outputId": "aecd3131-a35a-4370-baf4-36d5309d146e"
   },
   "outputs": [
    {
     "name": "stdout",
     "output_type": "stream",
     "text": [
      "RMSE Training: 92.82545840756482\n",
      "MAE Training: 69.67082209440568\n"
     ]
    }
   ],
   "source": [
    "# Solution:\n",
    "print_reg_perf(y_base, y_train, set_name='Training')"
   ]
  },
  {
   "cell_type": "markdown",
   "metadata": {
    "id": "JUEbyrm2ZzhL"
   },
   "source": [
    "### 5. Define Architecture"
   ]
  },
  {
   "cell_type": "markdown",
   "metadata": {
    "id": "faMubeDzZzuX"
   },
   "source": [
    "**[5.1]** Import `torch`, `torch.nn` as `nn` and `torch.nn.functional` as `F`"
   ]
  },
  {
   "cell_type": "code",
   "execution_count": 206,
   "metadata": {
    "id": "KSrYPUCPZz1u"
   },
   "outputs": [],
   "source": [
    "# Placeholder for student's code (3 lines of Python code)\n",
    "# Task: Import torch and torch.nn as nn"
   ]
  },
  {
   "cell_type": "code",
   "execution_count": 221,
   "metadata": {
    "id": "vBSoR7LTZz3-"
   },
   "outputs": [],
   "source": [
    "# Solution:\n",
    "import torch\n",
    "import torch.nn as nn\n",
    "import torch.nn.functional as F"
   ]
  },
  {
   "cell_type": "markdown",
   "metadata": {
    "id": "HKBNkwgmgVPQ"
   },
   "source": [
    "**[5.2]** Create in `src/models/pytorch.py` a class called `PytorchRegression` that inherits from `nn.Module` with:\n",
    "- `num_features` as input parameter\n",
    "- attributes:\n",
    "    - `layer_1`: fully-connected layer with 128 neurons\n",
    "    - `layer_out`: fully-connected layer with 1 neurons\n",
    "- methods:\n",
    "    - `forward()` with `inputs` as input parameter, perform ReLU and DropOut on the fully-connected layer followed by the output layer"
   ]
  },
  {
   "cell_type": "code",
   "execution_count": 140,
   "metadata": {
    "id": "2ohrllnggVWA"
   },
   "outputs": [],
   "source": [
    "# Placeholder for student's code (multiple lines of Python code)\n",
    "# Task: Create a class called PytorchRegression that inherits from nn.Module"
   ]
  },
  {
   "cell_type": "code",
   "execution_count": 222,
   "metadata": {
    "id": "siffJESGfZDt"
   },
   "outputs": [],
   "source": [
    "# Solution:\n",
    "class PytorchRegression(nn.Module):\n",
    "    def __init__(self, num_features):\n",
    "        super(PytorchRegression, self).__init__()\n",
    "        \n",
    "        self.layer_1 = nn.Linear(num_features, 128)\n",
    "        self.layer_out = nn.Linear(128, 1)\n",
    "\n",
    "    def forward(self, x):\n",
    "        x = F.dropout(F.relu(self.layer_1(x)))\n",
    "        x = self.layer_out(x)\n",
    "        return (x)"
   ]
  },
  {
   "cell_type": "markdown",
   "metadata": {
    "id": "ORcJNo4ygaRa"
   },
   "source": [
    "**[5.3]** Instantiate `PytorchRegression` with the correct number of input feature and save it into a variable called `model`"
   ]
  },
  {
   "cell_type": "code",
   "execution_count": 142,
   "metadata": {
    "id": "QgVyt-4egaXE"
   },
   "outputs": [],
   "source": [
    "# Placeholder for student's code (2 lines of Python code)\n",
    "# Task: Instantiate PytorchRegression with the correct number of input feature and save it into a variable called model\n"
   ]
  },
  {
   "cell_type": "code",
   "execution_count": 227,
   "metadata": {
    "id": "QkXUqKMcgaZN"
   },
   "outputs": [],
   "source": [
    "# Solution:\n",
    "from src.models.pytorch import PytorchRegression\n",
    "model = PytorchRegression(X_train.shape[1])\n"
   ]
  },
  {
   "cell_type": "markdown",
   "metadata": {
    "id": "rBxCIn10ZDAF"
   },
   "source": [
    "**[5.4]** Create  in `src/models/pytorch.py` a function called `get_device()` with:\n",
    "- Logics: check if cuda is available and return `cuda:0` if that is the case `cpu` otherwise\n",
    "- Output: device to be used by Pytorch"
   ]
  },
  {
   "cell_type": "code",
   "execution_count": 228,
   "metadata": {
    "id": "QLCzlF0xZDJ-"
   },
   "outputs": [],
   "source": [
    "# Placeholder for student's code (multiple lines of Python code)\n",
    "# Task: Create a function called get_device()"
   ]
  },
  {
   "cell_type": "code",
   "execution_count": 229,
   "metadata": {
    "id": "c6oNYKJEZDM4"
   },
   "outputs": [],
   "source": [
    "# Solution:\n",
    "def get_device():\n",
    "    if torch.cuda.is_available():\n",
    "        device = torch.device('cuda:0')\n",
    "    else:\n",
    "        device = torch.device('cpu') # don't have GPU \n",
    "    return device"
   ]
  },
  {
   "cell_type": "markdown",
   "metadata": {
    "id": "CR22BA8dZnKz"
   },
   "source": [
    "**[5.5]** Set `model` to use the device available"
   ]
  },
  {
   "cell_type": "code",
   "execution_count": 230,
   "metadata": {
    "id": "a8UHBIMeZnTP"
   },
   "outputs": [],
   "source": [
    "# Placeholder for student's code (3 lines of Python code)\n",
    "# Task: Set model to use the device available"
   ]
  },
  {
   "cell_type": "code",
   "execution_count": 231,
   "metadata": {
    "id": "nmw1xla2ZnYT",
    "outputId": "cf03f71b-e351-4c65-85de-333497000da7"
   },
   "outputs": [
    {
     "data": {
      "text/plain": [
       "PytorchRegression(\n",
       "  (layer_1): Linear(in_features=78, out_features=128, bias=True)\n",
       "  (layer_out): Linear(in_features=128, out_features=1, bias=True)\n",
       ")"
      ]
     },
     "execution_count": 231,
     "metadata": {},
     "output_type": "execute_result"
    }
   ],
   "source": [
    "# Solution:\n",
    "from src.models.pytorch import get_device\n",
    "\n",
    "device = get_device()\n",
    "model.to(device)"
   ]
  },
  {
   "cell_type": "markdown",
   "metadata": {
    "id": "ekaUYYjqgfcF"
   },
   "source": [
    "**[5.6]** Print the architecture of `model`"
   ]
  },
  {
   "cell_type": "code",
   "execution_count": 232,
   "metadata": {
    "id": "hSzb5ZsYgfhf"
   },
   "outputs": [],
   "source": [
    "# Placeholder for student's code (1 line of Python code)\n",
    "# Task: Print the architecture of model"
   ]
  },
  {
   "cell_type": "code",
   "execution_count": 233,
   "metadata": {
    "id": "h8Jmfhk0MQ0i",
    "outputId": "e57e6a4a-9378-4a8b-bb4b-36c2c3dd3d41"
   },
   "outputs": [
    {
     "name": "stdout",
     "output_type": "stream",
     "text": [
      "PytorchRegression(\n",
      "  (layer_1): Linear(in_features=78, out_features=128, bias=True)\n",
      "  (layer_out): Linear(in_features=128, out_features=1, bias=True)\n",
      ")\n"
     ]
    }
   ],
   "source": [
    "# Solution:\n",
    "print(model)"
   ]
  },
  {
   "cell_type": "markdown",
   "metadata": {
    "id": "-IbQs_iqinhq"
   },
   "source": [
    "### 6. Create Data Loader"
   ]
  },
  {
   "cell_type": "markdown",
   "metadata": {
    "id": "IRx25yhYjDVB"
   },
   "source": [
    "**[6.1]** Import `Dataset` and `DataLoader` from `torch.utils.data`"
   ]
  },
  {
   "cell_type": "code",
   "execution_count": 234,
   "metadata": {
    "id": "Qxbo_DIHjDel"
   },
   "outputs": [],
   "source": [
    "# Placeholder for student's code (1 line of Python code)\n",
    "# Task: Import Dataset and DataLoader from torch.utils.data"
   ]
  },
  {
   "cell_type": "code",
   "execution_count": 235,
   "metadata": {
    "id": "fFshbWLVjDiU"
   },
   "outputs": [],
   "source": [
    "# Solution:\n",
    "from torch.utils.data import Dataset, DataLoader"
   ]
  },
  {
   "cell_type": "markdown",
   "metadata": {
    "id": "fEueJp-0iy2T"
   },
   "source": [
    "**[6.2]** Create in `src/models/pytorch.py`a class called `PytorchDataset` that inherits from `torch.utils.data.Dataset` with:\n",
    "- `X` ans `y` as input parameters\n",
    "- attributes:\n",
    "    - `X_tensor`: X converted to Pytorch tensor\n",
    "    - `y_tensor`: y converted to Pytorch tensor\n",
    "- methods:\n",
    "    - `__getitem__(index)`\n",
    "        Return features and target for a given index\n",
    "    - `__len__`\n",
    "        Return the number of observations\n",
    "    - `to_tensor(data)`\n",
    "        Convert Pandas Series to Pytorch tensor"
   ]
  },
  {
   "cell_type": "code",
   "execution_count": 212,
   "metadata": {
    "id": "EqQR9E5hiy-T"
   },
   "outputs": [],
   "source": [
    "# Placeholder for student's code (multiple lines of Python code)\n",
    "# Task: Create a class called PytorchDataset"
   ]
  },
  {
   "cell_type": "code",
   "execution_count": 236,
   "metadata": {
    "id": "SoP-YD7EizA_"
   },
   "outputs": [],
   "source": [
    "# Solution:\n",
    "class PytorchDataset(Dataset):\n",
    "    \"\"\"\n",
    "    Pytorch dataset\n",
    "    ...\n",
    "\n",
    "    Attributes\n",
    "    ----------\n",
    "    X_tensor : Pytorch tensor\n",
    "        Features tensor\n",
    "    y_tensor : Pytorch tensor\n",
    "        Target tensor\n",
    "\n",
    "    Methods\n",
    "    -------\n",
    "    __getitem__(index)\n",
    "        Return features and target for a given index\n",
    "    __len__\n",
    "        Return the number of observations\n",
    "    to_tensor(data)\n",
    "        Convert Pandas Series to Pytorch tensor\n",
    "    \"\"\"\n",
    "        \n",
    "    def __init__(self, X, y):\n",
    "        self.X_tensor = self.to_tensor(X)\n",
    "        self.y_tensor = self.to_tensor(y)\n",
    "    \n",
    "    def __getitem__(self, index):\n",
    "        return self.X_tensor[index], self.y_tensor[index]\n",
    "        \n",
    "    def __len__ (self):\n",
    "        return len(self.X_tensor)\n",
    "    \n",
    "    def to_tensor(self, data):\n",
    "        return torch.Tensor(np.array(data))"
   ]
  },
  {
   "cell_type": "markdown",
   "metadata": {
    "id": "55TZNjVLjzxP"
   },
   "source": [
    "**[6.3]** Import this class from `src/models/pytorch` and convert all sets to PytorchDataset"
   ]
  },
  {
   "cell_type": "code",
   "execution_count": 237,
   "metadata": {
    "id": "NWmYfoi2jz39"
   },
   "outputs": [],
   "source": [
    "# Placeholder for student's code (multiple lines of Python code)\n",
    "# Task: Import this class from src/models/pytorch and convert all sets to PytorchDataset"
   ]
  },
  {
   "cell_type": "code",
   "execution_count": 241,
   "metadata": {
    "id": "ls8gm3JIjz7A"
   },
   "outputs": [],
   "source": [
    "# Solution:\n",
    "from src.models.pytorch import PytorchDataset\n",
    "\n",
    "train_dataset = PytorchDataset(X=X_train, y=y_train)\n",
    "val_dataset = PytorchDataset(X=X_val, y=y_val)\n",
    "test_dataset = PytorchDataset(X=X_test, y=y_test)"
   ]
  },
  {
   "cell_type": "markdown",
   "metadata": {
    "id": "XjypmrX2sojQ"
   },
   "source": [
    "**[6.4]** Import DataLoader from `torch.utils.data`"
   ]
  },
  {
   "cell_type": "code",
   "execution_count": null,
   "metadata": {
    "id": "pYaGCqrJsorB"
   },
   "outputs": [],
   "source": [
    "# Placeholder for student's code (multiple lines of Python code)\n",
    "# Task: Import DataLoader from torch.utils.data"
   ]
  },
  {
   "cell_type": "code",
   "execution_count": 242,
   "metadata": {
    "id": "F0NlzTRAsouj"
   },
   "outputs": [],
   "source": [
    "# Solution:\n",
    "from torch.utils.data import DataLoader"
   ]
  },
  {
   "cell_type": "markdown",
   "metadata": {
    "id": "ppK2EFnZs8mb"
   },
   "source": [
    "### 7. Train Model"
   ]
  },
  {
   "cell_type": "markdown",
   "metadata": {
    "id": "JE8fVHin92-6"
   },
   "source": [
    "**[7.1]** Instantiate a `nn.MSELoss()` and save it into a variable called `criterion` "
   ]
  },
  {
   "cell_type": "code",
   "execution_count": 243,
   "metadata": {
    "id": "qAJZbmb-93Ge"
   },
   "outputs": [],
   "source": [
    "# Placeholder for student's code (1 line of Python code)\n",
    "# Task: Instantiate a nn.MSELoss() and save it into a variable called criterion"
   ]
  },
  {
   "cell_type": "code",
   "execution_count": 244,
   "metadata": {
    "id": "oludTfN193I-"
   },
   "outputs": [],
   "source": [
    "# Solution:\n",
    "criterion = nn.MSELoss()"
   ]
  },
  {
   "cell_type": "markdown",
   "metadata": {
    "id": "4sxqDnYJ_CxY"
   },
   "source": [
    "**[7.2]** Instantiate a `torch.optim.Adam()` optimizer with the model's parameters and 0.001 as learning rate and save it into a variable called `optimizer`"
   ]
  },
  {
   "cell_type": "code",
   "execution_count": 245,
   "metadata": {
    "id": "PhSo9x4U_C7v"
   },
   "outputs": [],
   "source": [
    "# Placeholder for student's code (multiple lines of Python code)\n",
    "# Task: Instantiate a torch.optim.Adam() optimizer with the model's parameters and 0.001 as learning rate and save it into a variable called optimizer"
   ]
  },
  {
   "cell_type": "code",
   "execution_count": 246,
   "metadata": {
    "id": "GUxr7KPY_C-y"
   },
   "outputs": [],
   "source": [
    "# Solution:\n",
    "optimizer = torch.optim.Adam(model.parameters(), lr=0.001)"
   ]
  },
  {
   "cell_type": "markdown",
   "metadata": {
    "id": "d7L45Xp3aJJc"
   },
   "source": [
    "**[7.3]** Create a function called `train_regression()` that will perform forward and back propagation and calculate loss and RMSE scores"
   ]
  },
  {
   "cell_type": "code",
   "execution_count": 247,
   "metadata": {
    "id": "bPf8514oaJTt"
   },
   "outputs": [],
   "source": [
    "def train_regression(train_data, model, criterion, optimizer, batch_size, device, scheduler=None, collate_fn=None):\n",
    "    \"\"\"Train a Pytorch regresssion model\n",
    "\n",
    "    Parameters\n",
    "    ----------\n",
    "    train_data : torch.utils.data.Dataset\n",
    "        Pytorch dataset\n",
    "    model: torch.nn.Module\n",
    "        Pytorch Model\n",
    "    criterion: function\n",
    "        Loss function\n",
    "    optimizer: torch.optim\n",
    "        Optimizer\n",
    "    bacth_size : int\n",
    "        Number of observations per batch\n",
    "    device : str\n",
    "        Name of the device used for the model\n",
    "    scheduler : torch.optim.lr_scheduler\n",
    "        Pytorch Scheduler used for updating learning rate\n",
    "    collate_fn : function\n",
    "        Function defining required pre-processing steps\n",
    "\n",
    "    Returns\n",
    "    -------\n",
    "    Float\n",
    "        Loss score\n",
    "    Float:\n",
    "        RMSE Score\n",
    "    \"\"\"\n",
    "    \n",
    "    # Set model to training mode\n",
    "    model.train()\n",
    "    train_loss = 0\n",
    "\n",
    "    # Create data loader\n",
    "    data = DataLoader(train_data, batch_size=batch_size, shuffle=True, collate_fn=collate_fn)\n",
    "    \n",
    "    # Iterate through data by batch of observations\n",
    "    for feature, target_class in data:\n",
    "        \n",
    "        # Reset gradients\n",
    "        optimizer.zero_grad()\n",
    "        \n",
    "        # Load data to specified device\n",
    "        feature, target_class = feature.to(device), target_class.to(device)\n",
    "        \n",
    "        # Make predictions\n",
    "        output = model(feature)\n",
    "        \n",
    "        # Calculate loss for given batch\n",
    "        loss = criterion(output, target_class)\n",
    "        \n",
    "        # Calculate global loss\n",
    "        train_loss += loss.item()\n",
    "        \n",
    "        # Calculate gradients\n",
    "        loss.backward()\n",
    "        \n",
    "        # Update Weights\n",
    "        optimizer.step()\n",
    "        \n",
    "    # Adjust the learning rate\n",
    "    if scheduler:\n",
    "        scheduler.step()\n",
    "\n",
    "    return train_loss / len(train_data), np.sqrt(train_loss / len(train_data))"
   ]
  },
  {
   "cell_type": "markdown",
   "metadata": {
    "id": "_nXfK0H-_1aM"
   },
   "source": [
    "**[7.4]** Create a function called `test_regression()` that will perform forward and calculate loss and RMSE scores"
   ]
  },
  {
   "cell_type": "code",
   "execution_count": 248,
   "metadata": {
    "id": "HjsdSLle_1mb"
   },
   "outputs": [],
   "source": [
    "def test_regression(test_data, model, criterion, batch_size, device, collate_fn=None):\n",
    "    \"\"\"Calculate performance of a Pytorch regresssion model\n",
    "\n",
    "    Parameters\n",
    "    ----------\n",
    "    test_data : torch.utils.data.Dataset\n",
    "        Pytorch dataset\n",
    "    model: torch.nn.Module\n",
    "        Pytorch Model\n",
    "    criterion: function\n",
    "        Loss function\n",
    "    bacth_size : int\n",
    "        Number of observations per batch\n",
    "    device : str\n",
    "        Name of the device used for the model\n",
    "    collate_fn : function\n",
    "        Function defining required pre-processing steps\n",
    "\n",
    "    Returns\n",
    "    -------\n",
    "    Float\n",
    "        Loss score\n",
    "    Float:\n",
    "        RMSE Score\n",
    "    \"\"\"    \n",
    "    \n",
    "    # Set model to evaluation mode\n",
    "    model.eval()\n",
    "    test_loss = 0\n",
    "\n",
    "    # Create data loader\n",
    "    data = DataLoader(test_data, batch_size=batch_size, collate_fn=collate_fn)\n",
    "    \n",
    "    # Iterate through data by batch of observations\n",
    "    for feature, target_class in data:\n",
    "        \n",
    "        # Load data to specified device\n",
    "        feature, target_class = feature.to(device), target_class.to(device)\n",
    "        \n",
    "        # Set no update to gradients\n",
    "        with torch.no_grad():\n",
    "            \n",
    "            # Make predictions\n",
    "            output = model(feature)\n",
    "            \n",
    "            # Calculate loss for given batch\n",
    "            loss = criterion(output, target_class)\n",
    "            \n",
    "            # Calculate global loss\n",
    "            test_loss += loss.item()\n",
    "            \n",
    "    return test_loss / len(test_data), np.sqrt(test_loss / len(test_data))"
   ]
  },
  {
   "cell_type": "markdown",
   "metadata": {
    "id": "R7OmK12vAD1O"
   },
   "source": [
    "**[7.5]** Create 2 variables called `N_EPOCHS` and `BATCH_SIZE` that will take respectively 5 and 32 as values"
   ]
  },
  {
   "cell_type": "code",
   "execution_count": 249,
   "metadata": {
    "id": "ecKYasO3AD7L"
   },
   "outputs": [],
   "source": [
    "# Placeholder for student's code (2 lines of Python code)\n",
    "# Task: Create 2 variables called N_EPOCHS and BATCH_SIZE that will take respectively 5 and 32 as values"
   ]
  },
  {
   "cell_type": "code",
   "execution_count": 250,
   "metadata": {
    "id": "O7IyO0ugAD9d"
   },
   "outputs": [],
   "source": [
    "# Solution:\n",
    "N_EPOCHS = 5\n",
    "BATCH_SIZE = 32"
   ]
  },
  {
   "cell_type": "markdown",
   "metadata": {
    "id": "tLMMkp9XAGMf"
   },
   "source": [
    "**[7.6]** Create a for loop that will iterate through the specified number of epochs and will train the model with the training set and assess the performance on the validation set and print their scores"
   ]
  },
  {
   "cell_type": "code",
   "execution_count": 251,
   "metadata": {
    "id": "HQm6McEwAGTS"
   },
   "outputs": [],
   "source": [
    "# Placeholder for student's code (multiple lines of Python code)\n",
    "# Task: Create a for loop that will iterate through the specified number of epochs and will train the model with the training set and assess the performance on the validation set and print their scores"
   ]
  },
  {
   "cell_type": "code",
   "execution_count": 253,
   "metadata": {
    "id": "DJTG4hvIddpv",
    "outputId": "242f89a5-f1e4-42ad-e49c-809505326d68"
   },
   "outputs": [
    {
     "name": "stderr",
     "output_type": "stream",
     "text": [
      "/opt/conda/lib/python3.7/site-packages/torch/nn/modules/loss.py:528: UserWarning: Using a target size (torch.Size([32])) that is different to the input size (torch.Size([32, 1])). This will likely lead to incorrect results due to broadcasting. Please ensure they have the same size.\n",
      "  return F.mse_loss(input, target, reduction=self.reduction)\n",
      "/opt/conda/lib/python3.7/site-packages/torch/nn/modules/loss.py:528: UserWarning: Using a target size (torch.Size([31])) that is different to the input size (torch.Size([31, 1])). This will likely lead to incorrect results due to broadcasting. Please ensure they have the same size.\n",
      "  return F.mse_loss(input, target, reduction=self.reduction)\n"
     ]
    },
    {
     "name": "stdout",
     "output_type": "stream",
     "text": [
      "Epoch: 0\n",
      "\t(train)\tLoss: 349.5482\t|\tRMSE: 18.7\n",
      "\t(valid)\tLoss: 243.9819\t|\tRMSE: 15.6\n",
      "Epoch: 1\n",
      "\t(train)\tLoss: 273.4944\t|\tRMSE: 16.5\n",
      "\t(valid)\tLoss: 239.4132\t|\tRMSE: 15.5\n",
      "Epoch: 2\n",
      "\t(train)\tLoss: 272.7597\t|\tRMSE: 16.5\n",
      "\t(valid)\tLoss: 237.2977\t|\tRMSE: 15.4\n",
      "Epoch: 3\n",
      "\t(train)\tLoss: 272.5247\t|\tRMSE: 16.5\n",
      "\t(valid)\tLoss: 238.1760\t|\tRMSE: 15.4\n",
      "Epoch: 4\n",
      "\t(train)\tLoss: 272.3270\t|\tRMSE: 16.5\n",
      "\t(valid)\tLoss: 237.6604\t|\tRMSE: 15.4\n"
     ]
    }
   ],
   "source": [
    "# Solution:\n",
    "from src.models.pytorch import train_regression, test_regression\n",
    "\n",
    "for epoch in range(N_EPOCHS):\n",
    "    train_loss, train_rmse = train_regression(train_dataset, model=model, criterion=criterion, optimizer=optimizer, batch_size=BATCH_SIZE, device=device)\n",
    "    valid_loss, valid_rmse = test_regression(val_dataset, model=model, criterion=criterion, batch_size=BATCH_SIZE, device=device)\n",
    "\n",
    "    print(f'Epoch: {epoch}')\n",
    "    print(f'\\t(train)\\tLoss: {train_loss:.4f}\\t|\\tRMSE: {train_rmse:.1f}')\n",
    "    print(f'\\t(valid)\\tLoss: {valid_loss:.4f}\\t|\\tRMSE: {valid_rmse:.1f}')"
   ]
  },
  {
   "cell_type": "markdown",
   "metadata": {
    "id": "P2W8S3ewcyKl"
   },
   "source": [
    "**[7.7]** Save the model into the `models` folder"
   ]
  },
  {
   "cell_type": "code",
   "execution_count": null,
   "metadata": {
    "id": "geegB1Y2cyTk"
   },
   "outputs": [],
   "source": [
    "# Placeholder for student's code (1 line of Python code)\n",
    "# Task: Save the model into the models folder"
   ]
  },
  {
   "cell_type": "code",
   "execution_count": 254,
   "metadata": {
    "id": "gPfmTNxocyXC"
   },
   "outputs": [],
   "source": [
    "# Solution\n",
    "torch.save(model, \"../models/pytorch_reg_pm2_5.pt\")"
   ]
  },
  {
   "cell_type": "markdown",
   "metadata": {
    "id": "GyacNiLhz7BF"
   },
   "source": [
    "### 8.   Assess Performance"
   ]
  },
  {
   "cell_type": "markdown",
   "metadata": {
    "id": "d3-lk01m0F1S"
   },
   "source": [
    "**[8.1]** Assess the model performance on the testing set and print its scores"
   ]
  },
  {
   "cell_type": "code",
   "execution_count": null,
   "metadata": {
    "id": "HgbaQVNW0GHq"
   },
   "outputs": [],
   "source": [
    "# Placeholder for student's code (2 lines of Python code)\n",
    "# Task: Assess the model performance on the testing set and print its scores"
   ]
  },
  {
   "cell_type": "code",
   "execution_count": 255,
   "metadata": {
    "id": "IRzOY6wK0FJ9",
    "outputId": "c7da0826-a933-493d-fa0c-4e3be0d7cffa"
   },
   "outputs": [
    {
     "name": "stdout",
     "output_type": "stream",
     "text": [
      "\tLoss: 275.9460\t|\tRMSE: 16.6\n"
     ]
    }
   ],
   "source": [
    "test_loss, test_rmse = test_regression(test_dataset, model=model, criterion=criterion, batch_size=BATCH_SIZE, device=device)\n",
    "print(f'\\tLoss: {test_loss:.4f}\\t|\\tRMSE: {test_rmse:.1f}')"
   ]
  },
  {
   "cell_type": "markdown",
   "metadata": {
    "id": "1yX0Ocg4hcZM"
   },
   "source": [
    "### 9.   Push changes"
   ]
  },
  {
   "cell_type": "markdown",
   "metadata": {
    "id": "3guOKU9gjrmp"
   },
   "source": [
    "**[9.1]** Add you changes to git staging area"
   ]
  },
  {
   "cell_type": "code",
   "execution_count": null,
   "metadata": {
    "id": "lKuRNeqAj0ym"
   },
   "outputs": [],
   "source": [
    "# Placeholder for student's code (1 command line)\n",
    "# Task: Add you changes to git staging area"
   ]
  },
  {
   "cell_type": "code",
   "execution_count": null,
   "metadata": {
    "id": "axcj-jS0jruy"
   },
   "outputs": [],
   "source": [
    "# Solution:\n",
    "git add ."
   ]
  },
  {
   "cell_type": "markdown",
   "metadata": {
    "id": "6nUK2dp_j67X"
   },
   "source": [
    "**[9.2]** Create the snapshot of your repository and add a description"
   ]
  },
  {
   "cell_type": "code",
   "execution_count": null,
   "metadata": {
    "id": "1-M-aS-Ij7EE"
   },
   "outputs": [],
   "source": [
    "# Placeholder for student's code (1 command line)\n",
    "# Task: Create the snapshot of your repository and add a description"
   ]
  },
  {
   "cell_type": "code",
   "execution_count": null,
   "metadata": {
    "id": "zovhzXRxj7Il"
   },
   "outputs": [],
   "source": [
    "# Solution:\n",
    "git commit -m \"pytorch regression\""
   ]
  },
  {
   "cell_type": "markdown",
   "metadata": {
    "id": "Y9FciIQZj7nX"
   },
   "source": [
    "**[9.3]** Push your snapshot to Github"
   ]
  },
  {
   "cell_type": "code",
   "execution_count": null,
   "metadata": {
    "id": "IR7i6D5hj7uO"
   },
   "outputs": [],
   "source": [
    "# Placeholder for student's code (1 command line)\n",
    "# Task: Push your snapshot to Github"
   ]
  },
  {
   "cell_type": "code",
   "execution_count": null,
   "metadata": {
    "id": "WaVAgJ4Aj7wi"
   },
   "outputs": [],
   "source": [
    "# Solution:\n",
    "git push"
   ]
  },
  {
   "cell_type": "markdown",
   "metadata": {
    "id": "d7a6bwMniAs1"
   },
   "source": [
    "**[9.4]** Check out to the master branch"
   ]
  },
  {
   "cell_type": "code",
   "execution_count": null,
   "metadata": {
    "id": "eM9v_33XiA1I"
   },
   "outputs": [],
   "source": [
    "# Placeholder for student's code (1 command line)\n",
    "# Task: Check out to the master branch"
   ]
  },
  {
   "cell_type": "code",
   "execution_count": null,
   "metadata": {
    "id": "d6-AI0x7iA4M"
   },
   "outputs": [],
   "source": [
    "# Solution:\n",
    "git checkout master"
   ]
  },
  {
   "cell_type": "markdown",
   "metadata": {
    "id": "v98Ka9kNiBLw"
   },
   "source": [
    "**[9.5]** Pull the latest updates"
   ]
  },
  {
   "cell_type": "code",
   "execution_count": null,
   "metadata": {
    "id": "yNZb1PyEjIOP"
   },
   "outputs": [],
   "source": [
    "# Placeholder for student's code (1 command line)\n",
    "# Task: Pull the latest updates"
   ]
  },
  {
   "cell_type": "code",
   "execution_count": null,
   "metadata": {
    "id": "5TJAEYxPjIRS"
   },
   "outputs": [],
   "source": [
    "# Solution:\n",
    "git pull"
   ]
  },
  {
   "cell_type": "markdown",
   "metadata": {
    "id": "pGd3Xdx-jJDk"
   },
   "source": [
    "**[9.6]** Check out to the `pytorch_reg` branch"
   ]
  },
  {
   "cell_type": "code",
   "execution_count": null,
   "metadata": {
    "id": "aEYg8wauiBUb"
   },
   "outputs": [],
   "source": [
    "# Placeholder for student's code (1 command line)\n",
    "# Task: Merge the branch pytorch_reg"
   ]
  },
  {
   "cell_type": "code",
   "execution_count": null,
   "metadata": {
    "id": "YNZunyVsiBXd"
   },
   "outputs": [],
   "source": [
    "# Solution:\n",
    "git checkout pytorch_reg"
   ]
  },
  {
   "cell_type": "markdown",
   "metadata": {
    "id": "hjB_56bGdqpS"
   },
   "source": [
    "**[9.7]** Merge the `master` branch and push your changes"
   ]
  },
  {
   "cell_type": "code",
   "execution_count": null,
   "metadata": {
    "id": "q25rjnxTdqx5"
   },
   "outputs": [],
   "source": [
    "# Placeholder for student's code (2 command lines)\n",
    "# Task: Merge the master branch and push your changes"
   ]
  },
  {
   "cell_type": "code",
   "execution_count": null,
   "metadata": {
    "id": "NTbrlcNzdq03"
   },
   "outputs": [],
   "source": [
    "# Solution:\n",
    "git merge master\n",
    "git push"
   ]
  },
  {
   "cell_type": "markdown",
   "metadata": {
    "id": "8B98cSvWkB-x"
   },
   "source": [
    "**[9.8]** Go to Github and merge the branch after reviewing the code and fixing any conflict"
   ]
  },
  {
   "cell_type": "markdown",
   "metadata": {
    "id": "EkQx18jYiEvQ"
   },
   "source": [
    "**[9.9]** Stop the Docker container"
   ]
  },
  {
   "cell_type": "code",
   "execution_count": null,
   "metadata": {
    "id": "OlimZMQsiE7w"
   },
   "outputs": [],
   "source": [
    "# Placeholder for student's code (1 command line)\n",
    "# Task: Stop the Docker container"
   ]
  },
  {
   "cell_type": "code",
   "execution_count": null,
   "metadata": {
    "id": "ovwOAbC5iE-T"
   },
   "outputs": [],
   "source": [
    "# Solution:\n",
    "docker stop adv_dsi_lab_5"
   ]
  }
 ],
 "metadata": {
  "colab": {
   "collapsed_sections": [],
   "name": "AdvDSI_Lab5_Exercise1_Solutions.ipynb",
   "provenance": []
  },
  "kernelspec": {
   "display_name": "Python 3",
   "language": "python",
   "name": "python3"
  },
  "language_info": {
   "codemirror_mode": {
    "name": "ipython",
    "version": 3
   },
   "file_extension": ".py",
   "mimetype": "text/x-python",
   "name": "python",
   "nbconvert_exporter": "python",
   "pygments_lexer": "ipython3",
   "version": "3.7.6"
  }
 },
 "nbformat": 4,
 "nbformat_minor": 4
}
